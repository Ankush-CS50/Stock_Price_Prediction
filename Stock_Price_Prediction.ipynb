{
  "nbformat": 4,
  "nbformat_minor": 0,
  "metadata": {
    "colab": {
      "name": "Stock Price Prediction.ipynb",
      "provenance": [],
      "collapsed_sections": []
    },
    "kernelspec": {
      "name": "python3",
      "display_name": "Python 3"
    },
    "language_info": {
      "name": "python"
    }
  },
  "cells": [
    {
      "cell_type": "markdown",
      "metadata": {
        "id": "l4Hj2PEHRbNm"
      },
      "source": [
        "**Stock Price Prediction & Forcasting using Stacked LSTM**"
      ]
    },
    {
      "cell_type": "markdown",
      "metadata": {
        "id": "LKkA2HaER7kx"
      },
      "source": [
        "Using Keras and Tensorflow"
      ]
    },
    {
      "cell_type": "code",
      "metadata": {
        "id": "GhWb9DP3R_Tq"
      },
      "source": [
        "#Data Collection\n",
        "import pandas_datareader as pdr"
      ],
      "execution_count": 129,
      "outputs": []
    },
    {
      "cell_type": "code",
      "metadata": {
        "id": "3hH2T5oyUjIX"
      },
      "source": [
        "df = pdr.get_data_tiingo('GOOG', api_key='a4df6068cedc8cc019d45fad6059f5ca7448d94f')"
      ],
      "execution_count": 130,
      "outputs": []
    },
    {
      "cell_type": "code",
      "metadata": {
        "id": "BtEIbXAvU-me"
      },
      "source": [
        "df.to_csv('GOOG.csv')"
      ],
      "execution_count": 132,
      "outputs": []
    },
    {
      "cell_type": "code",
      "metadata": {
        "id": "4ItvynViVEmx"
      },
      "source": [
        "import pandas as pd"
      ],
      "execution_count": 133,
      "outputs": []
    },
    {
      "cell_type": "code",
      "metadata": {
        "id": "weC4LcZJVK9N"
      },
      "source": [
        "df = pd.read_csv('GOOG.csv')"
      ],
      "execution_count": 134,
      "outputs": []
    },
    {
      "cell_type": "code",
      "metadata": {
        "colab": {
          "base_uri": "https://localhost:8080/",
          "height": 203
        },
        "id": "GEQEk32yVUP0",
        "outputId": "a02303c4-c6e9-4afe-fafc-d6ae794d268c"
      },
      "source": [
        "df.head()"
      ],
      "execution_count": 135,
      "outputs": [
        {
          "output_type": "execute_result",
          "data": {
            "text/html": [
              "<div>\n",
              "<style scoped>\n",
              "    .dataframe tbody tr th:only-of-type {\n",
              "        vertical-align: middle;\n",
              "    }\n",
              "\n",
              "    .dataframe tbody tr th {\n",
              "        vertical-align: top;\n",
              "    }\n",
              "\n",
              "    .dataframe thead th {\n",
              "        text-align: right;\n",
              "    }\n",
              "</style>\n",
              "<table border=\"1\" class=\"dataframe\">\n",
              "  <thead>\n",
              "    <tr style=\"text-align: right;\">\n",
              "      <th></th>\n",
              "      <th>symbol</th>\n",
              "      <th>date</th>\n",
              "      <th>close</th>\n",
              "      <th>high</th>\n",
              "      <th>low</th>\n",
              "      <th>open</th>\n",
              "      <th>volume</th>\n",
              "      <th>adjClose</th>\n",
              "      <th>adjHigh</th>\n",
              "      <th>adjLow</th>\n",
              "      <th>adjOpen</th>\n",
              "      <th>adjVolume</th>\n",
              "      <th>divCash</th>\n",
              "      <th>splitFactor</th>\n",
              "    </tr>\n",
              "  </thead>\n",
              "  <tbody>\n",
              "    <tr>\n",
              "      <th>0</th>\n",
              "      <td>GOOG</td>\n",
              "      <td>2016-11-16 00:00:00+00:00</td>\n",
              "      <td>764.48</td>\n",
              "      <td>766.36</td>\n",
              "      <td>750.51</td>\n",
              "      <td>755.20</td>\n",
              "      <td>1472594</td>\n",
              "      <td>764.48</td>\n",
              "      <td>766.36</td>\n",
              "      <td>750.51</td>\n",
              "      <td>755.20</td>\n",
              "      <td>1472594</td>\n",
              "      <td>0.0</td>\n",
              "      <td>1.0</td>\n",
              "    </tr>\n",
              "    <tr>\n",
              "      <th>1</th>\n",
              "      <td>GOOG</td>\n",
              "      <td>2016-11-17 00:00:00+00:00</td>\n",
              "      <td>771.23</td>\n",
              "      <td>772.70</td>\n",
              "      <td>764.23</td>\n",
              "      <td>766.92</td>\n",
              "      <td>1304048</td>\n",
              "      <td>771.23</td>\n",
              "      <td>772.70</td>\n",
              "      <td>764.23</td>\n",
              "      <td>766.92</td>\n",
              "      <td>1304048</td>\n",
              "      <td>0.0</td>\n",
              "      <td>1.0</td>\n",
              "    </tr>\n",
              "    <tr>\n",
              "      <th>2</th>\n",
              "      <td>GOOG</td>\n",
              "      <td>2016-11-18 00:00:00+00:00</td>\n",
              "      <td>760.54</td>\n",
              "      <td>775.00</td>\n",
              "      <td>760.00</td>\n",
              "      <td>771.37</td>\n",
              "      <td>1547145</td>\n",
              "      <td>760.54</td>\n",
              "      <td>775.00</td>\n",
              "      <td>760.00</td>\n",
              "      <td>771.37</td>\n",
              "      <td>1547145</td>\n",
              "      <td>0.0</td>\n",
              "      <td>1.0</td>\n",
              "    </tr>\n",
              "    <tr>\n",
              "      <th>3</th>\n",
              "      <td>GOOG</td>\n",
              "      <td>2016-11-21 00:00:00+00:00</td>\n",
              "      <td>769.20</td>\n",
              "      <td>769.70</td>\n",
              "      <td>760.60</td>\n",
              "      <td>762.61</td>\n",
              "      <td>1330639</td>\n",
              "      <td>769.20</td>\n",
              "      <td>769.70</td>\n",
              "      <td>760.60</td>\n",
              "      <td>762.61</td>\n",
              "      <td>1330639</td>\n",
              "      <td>0.0</td>\n",
              "      <td>1.0</td>\n",
              "    </tr>\n",
              "    <tr>\n",
              "      <th>4</th>\n",
              "      <td>GOOG</td>\n",
              "      <td>2016-11-22 00:00:00+00:00</td>\n",
              "      <td>768.27</td>\n",
              "      <td>776.96</td>\n",
              "      <td>767.00</td>\n",
              "      <td>772.63</td>\n",
              "      <td>1593108</td>\n",
              "      <td>768.27</td>\n",
              "      <td>776.96</td>\n",
              "      <td>767.00</td>\n",
              "      <td>772.63</td>\n",
              "      <td>1593108</td>\n",
              "      <td>0.0</td>\n",
              "      <td>1.0</td>\n",
              "    </tr>\n",
              "  </tbody>\n",
              "</table>\n",
              "</div>"
            ],
            "text/plain": [
              "  symbol                       date   close  ...  adjVolume  divCash  splitFactor\n",
              "0   GOOG  2016-11-16 00:00:00+00:00  764.48  ...    1472594      0.0          1.0\n",
              "1   GOOG  2016-11-17 00:00:00+00:00  771.23  ...    1304048      0.0          1.0\n",
              "2   GOOG  2016-11-18 00:00:00+00:00  760.54  ...    1547145      0.0          1.0\n",
              "3   GOOG  2016-11-21 00:00:00+00:00  769.20  ...    1330639      0.0          1.0\n",
              "4   GOOG  2016-11-22 00:00:00+00:00  768.27  ...    1593108      0.0          1.0\n",
              "\n",
              "[5 rows x 14 columns]"
            ]
          },
          "metadata": {},
          "execution_count": 135
        }
      ]
    },
    {
      "cell_type": "code",
      "metadata": {
        "colab": {
          "base_uri": "https://localhost:8080/",
          "height": 203
        },
        "id": "IvumlQEDVZH9",
        "outputId": "7b38a7ae-e931-4ae0-d160-40805fc803c9"
      },
      "source": [
        "df.tail()"
      ],
      "execution_count": 136,
      "outputs": [
        {
          "output_type": "execute_result",
          "data": {
            "text/html": [
              "<div>\n",
              "<style scoped>\n",
              "    .dataframe tbody tr th:only-of-type {\n",
              "        vertical-align: middle;\n",
              "    }\n",
              "\n",
              "    .dataframe tbody tr th {\n",
              "        vertical-align: top;\n",
              "    }\n",
              "\n",
              "    .dataframe thead th {\n",
              "        text-align: right;\n",
              "    }\n",
              "</style>\n",
              "<table border=\"1\" class=\"dataframe\">\n",
              "  <thead>\n",
              "    <tr style=\"text-align: right;\">\n",
              "      <th></th>\n",
              "      <th>symbol</th>\n",
              "      <th>date</th>\n",
              "      <th>close</th>\n",
              "      <th>high</th>\n",
              "      <th>low</th>\n",
              "      <th>open</th>\n",
              "      <th>volume</th>\n",
              "      <th>adjClose</th>\n",
              "      <th>adjHigh</th>\n",
              "      <th>adjLow</th>\n",
              "      <th>adjOpen</th>\n",
              "      <th>adjVolume</th>\n",
              "      <th>divCash</th>\n",
              "      <th>splitFactor</th>\n",
              "    </tr>\n",
              "  </thead>\n",
              "  <tbody>\n",
              "    <tr>\n",
              "      <th>1252</th>\n",
              "      <td>GOOG</td>\n",
              "      <td>2021-11-08 00:00:00+00:00</td>\n",
              "      <td>2987.03</td>\n",
              "      <td>3020.6899</td>\n",
              "      <td>2982.40</td>\n",
              "      <td>3000.000</td>\n",
              "      <td>919407</td>\n",
              "      <td>2987.03</td>\n",
              "      <td>3020.6899</td>\n",
              "      <td>2982.40</td>\n",
              "      <td>3000.000</td>\n",
              "      <td>919407</td>\n",
              "      <td>0.0</td>\n",
              "      <td>1.0</td>\n",
              "    </tr>\n",
              "    <tr>\n",
              "      <th>1253</th>\n",
              "      <td>GOOG</td>\n",
              "      <td>2021-11-09 00:00:00+00:00</td>\n",
              "      <td>2984.97</td>\n",
              "      <td>3007.5700</td>\n",
              "      <td>2950.14</td>\n",
              "      <td>2994.920</td>\n",
              "      <td>842214</td>\n",
              "      <td>2984.97</td>\n",
              "      <td>3007.5700</td>\n",
              "      <td>2950.14</td>\n",
              "      <td>2994.920</td>\n",
              "      <td>842214</td>\n",
              "      <td>0.0</td>\n",
              "      <td>1.0</td>\n",
              "    </tr>\n",
              "    <tr>\n",
              "      <th>1254</th>\n",
              "      <td>GOOG</td>\n",
              "      <td>2021-11-10 00:00:00+00:00</td>\n",
              "      <td>2932.52</td>\n",
              "      <td>2973.9999</td>\n",
              "      <td>2906.50</td>\n",
              "      <td>2960.195</td>\n",
              "      <td>1135416</td>\n",
              "      <td>2932.52</td>\n",
              "      <td>2973.9999</td>\n",
              "      <td>2906.50</td>\n",
              "      <td>2960.195</td>\n",
              "      <td>1135416</td>\n",
              "      <td>0.0</td>\n",
              "      <td>1.0</td>\n",
              "    </tr>\n",
              "    <tr>\n",
              "      <th>1255</th>\n",
              "      <td>GOOG</td>\n",
              "      <td>2021-11-11 00:00:00+00:00</td>\n",
              "      <td>2934.96</td>\n",
              "      <td>2970.0450</td>\n",
              "      <td>2933.89</td>\n",
              "      <td>2942.140</td>\n",
              "      <td>623155</td>\n",
              "      <td>2934.96</td>\n",
              "      <td>2970.0450</td>\n",
              "      <td>2933.89</td>\n",
              "      <td>2942.140</td>\n",
              "      <td>623155</td>\n",
              "      <td>0.0</td>\n",
              "      <td>1.0</td>\n",
              "    </tr>\n",
              "    <tr>\n",
              "      <th>1256</th>\n",
              "      <td>GOOG</td>\n",
              "      <td>2021-11-12 00:00:00+00:00</td>\n",
              "      <td>2992.91</td>\n",
              "      <td>2997.1900</td>\n",
              "      <td>2929.08</td>\n",
              "      <td>2956.630</td>\n",
              "      <td>849970</td>\n",
              "      <td>2992.91</td>\n",
              "      <td>2997.1900</td>\n",
              "      <td>2929.08</td>\n",
              "      <td>2956.630</td>\n",
              "      <td>849970</td>\n",
              "      <td>0.0</td>\n",
              "      <td>1.0</td>\n",
              "    </tr>\n",
              "  </tbody>\n",
              "</table>\n",
              "</div>"
            ],
            "text/plain": [
              "     symbol                       date  ...  divCash  splitFactor\n",
              "1252   GOOG  2021-11-08 00:00:00+00:00  ...      0.0          1.0\n",
              "1253   GOOG  2021-11-09 00:00:00+00:00  ...      0.0          1.0\n",
              "1254   GOOG  2021-11-10 00:00:00+00:00  ...      0.0          1.0\n",
              "1255   GOOG  2021-11-11 00:00:00+00:00  ...      0.0          1.0\n",
              "1256   GOOG  2021-11-12 00:00:00+00:00  ...      0.0          1.0\n",
              "\n",
              "[5 rows x 14 columns]"
            ]
          },
          "metadata": {},
          "execution_count": 136
        }
      ]
    },
    {
      "cell_type": "code",
      "metadata": {
        "id": "P3bSy2ptVe57"
      },
      "source": [
        "df1 = df.reset_index()['close']"
      ],
      "execution_count": 137,
      "outputs": []
    },
    {
      "cell_type": "code",
      "metadata": {
        "colab": {
          "base_uri": "https://localhost:8080/"
        },
        "id": "oTIRVYS_Vsho",
        "outputId": "69b45882-daaf-4ef7-e6be-547c3b355b60"
      },
      "source": [
        "df1.shape"
      ],
      "execution_count": 138,
      "outputs": [
        {
          "output_type": "execute_result",
          "data": {
            "text/plain": [
              "(1257,)"
            ]
          },
          "metadata": {},
          "execution_count": 138
        }
      ]
    },
    {
      "cell_type": "code",
      "metadata": {
        "colab": {
          "base_uri": "https://localhost:8080/",
          "height": 282
        },
        "id": "0EE4Aq9MV2FM",
        "outputId": "8692a817-b401-45dc-9f0b-23811a049982"
      },
      "source": [
        "import matplotlib.pyplot as plt\n",
        "plt.plot(df1)"
      ],
      "execution_count": 139,
      "outputs": [
        {
          "output_type": "execute_result",
          "data": {
            "text/plain": [
              "[<matplotlib.lines.Line2D at 0x7f1ea9ad8090>]"
            ]
          },
          "metadata": {},
          "execution_count": 139
        },
        {
          "output_type": "display_data",
          "data": {
            "image/png": "[encoded data removed]",
            "text/plain": [
              "<Figure size 432x288 with 1 Axes>"
            ]
          },
          "metadata": {
            "needs_background": "light"
          }
        }
      ]
    },
    {
      "cell_type": "code",
      "metadata": {
        "colab": {
          "base_uri": "https://localhost:8080/"
        },
        "id": "XSFbrEXsWBdy",
        "outputId": "41afdb21-aa7c-4bff-8667-a76ad1878f80"
      },
      "source": [
        "df1"
      ],
      "execution_count": 140,
      "outputs": [
        {
          "output_type": "execute_result",
          "data": {
            "text/plain": [
              "0        764.48\n",
              "1        771.23\n",
              "2        760.54\n",
              "3        769.20\n",
              "4        768.27\n",
              "         ...   \n",
              "1252    2987.03\n",
              "1253    2984.97\n",
              "1254    2932.52\n",
              "1255    2934.96\n",
              "1256    2992.91\n",
              "Name: close, Length: 1257, dtype: float64"
            ]
          },
          "metadata": {},
          "execution_count": 140
        }
      ]
    },
    {
      "cell_type": "markdown",
      "metadata": {
        "id": "fL_MREpOWKjn"
      },
      "source": [
        "LTSM are sensitive to the scale of data, so we have to use MinMax Scaler."
      ]
    },
    {
      "cell_type": "code",
      "metadata": {
        "id": "Y9c1iUFpWFZ3"
      },
      "source": [
        "import numpy as np"
      ],
      "execution_count": 141,
      "outputs": []
    },
    {
      "cell_type": "code",
      "metadata": {
        "id": "NlN0lbWdWZ8k"
      },
      "source": [
        "from sklearn.preprocessing import MinMaxScaler\n",
        "scaler = MinMaxScaler(feature_range=(0,1))\n",
        "df1 = scaler.fit_transform(np.array(df1).reshape(-1,1))"
      ],
      "execution_count": 142,
      "outputs": []
    },
    {
      "cell_type": "code",
      "metadata": {
        "colab": {
          "base_uri": "https://localhost:8080/"
        },
        "id": "mx1VUspDXbR_",
        "outputId": "479c7cbc-4d50-42e9-ad28-af2000506237"
      },
      "source": [
        "df1"
      ],
      "execution_count": 143,
      "outputs": [
        {
          "output_type": "execute_result",
          "data": {
            "text/plain": [
              "array([[0.00737642],\n",
              "       [0.01038312],\n",
              "       [0.00562141],\n",
              "       ...,\n",
              "       [0.9731001 ],\n",
              "       [0.97418697],\n",
              "       [1.        ]])"
            ]
          },
          "metadata": {},
          "execution_count": 143
        }
      ]
    },
    {
      "cell_type": "code",
      "metadata": {
        "colab": {
          "base_uri": "https://localhost:8080/"
        },
        "id": "vTp3q0FOXn1z",
        "outputId": "4364b5f5-0146-4181-bb32-d0d12721eabe"
      },
      "source": [
        "df1.shape"
      ],
      "execution_count": 144,
      "outputs": [
        {
          "output_type": "execute_result",
          "data": {
            "text/plain": [
              "(1257, 1)"
            ]
          },
          "metadata": {},
          "execution_count": 144
        }
      ]
    },
    {
      "cell_type": "markdown",
      "metadata": {
        "id": "Ja5aE-pUYL6k"
      },
      "source": [
        "Splitting dataset into train and test split"
      ]
    },
    {
      "cell_type": "code",
      "metadata": {
        "id": "0gMBsarbXqO4"
      },
      "source": [
        "training_size = int(len(df1)*0.65)\n",
        "test_size = len(df1) - training_size\n",
        "train_data, test_data = df1[0:training_size:], df1[training_size:len(df1),:1]"
      ],
      "execution_count": 145,
      "outputs": []
    },
    {
      "cell_type": "code",
      "metadata": {
        "colab": {
          "base_uri": "https://localhost:8080/"
        },
        "id": "9JSzhu_qZFzL",
        "outputId": "de5e3554-a84c-4b69-af16-43069c325f60"
      },
      "source": [
        "training_size, test_size"
      ],
      "execution_count": 146,
      "outputs": [
        {
          "output_type": "execute_result",
          "data": {
            "text/plain": [
              "(817, 440)"
            ]
          },
          "metadata": {},
          "execution_count": 146
        }
      ]
    },
    {
      "cell_type": "markdown",
      "metadata": {
        "id": "vvP5FHOKaFy4"
      },
      "source": [
        "Convert an array of values into a dataset matrix"
      ]
    },
    {
      "cell_type": "code",
      "metadata": {
        "id": "jG24_7r1ZJTr"
      },
      "source": [
        "import numpy\n",
        "def create_dataset(dataset, time_step=1):\n",
        "  dataX, dataY = [], []\n",
        "  for i in range(len(dataset)-time_step-1):\n",
        "    a = dataset[i:(i + time_step), 0]\n",
        "    dataX.append(a)\n",
        "    dataY.append(dataset[i + time_step, 0])\n",
        "  return numpy.array(dataX), numpy.array(dataY)"
      ],
      "execution_count": 147,
      "outputs": []
    },
    {
      "cell_type": "markdown",
      "metadata": {
        "id": "AQ15otZMbpHL"
      },
      "source": [
        "Reshape into X = t, t+1, t+2 and t+3 and Y = t+f"
      ]
    },
    {
      "cell_type": "code",
      "metadata": {
        "id": "lebXmvPdbduX"
      },
      "source": [
        "time_step = 100\n",
        "X_train, y_train = create_dataset(train_data, time_step)\n",
        "X_test, y_test = create_dataset(test_data, time_step)"
      ],
      "execution_count": 148,
      "outputs": []
    },
    {
      "cell_type": "code",
      "metadata": {
        "colab": {
          "base_uri": "https://localhost:8080/"
        },
        "id": "FHIBHu2ociDD",
        "outputId": "812ace29-52da-496a-8971-bbcc2ffad38c"
      },
      "source": [
        "print(X_train.shape), print(y_train.shape)"
      ],
      "execution_count": 149,
      "outputs": [
        {
          "output_type": "stream",
          "name": "stdout",
          "text": [
            "(716, 100)\n",
            "(716,)\n"
          ]
        },
        {
          "output_type": "execute_result",
          "data": {
            "text/plain": [
              "(None, None)"
            ]
          },
          "metadata": {},
          "execution_count": 149
        }
      ]
    },
    {
      "cell_type": "markdown",
      "metadata": {
        "id": "QpggP6v5gbIN"
      },
      "source": [
        "Reshape input to be samples, time steps, features, which is requird for LTSM"
      ]
    },
    {
      "cell_type": "code",
      "metadata": {
        "id": "ShNpC2QJgUUx"
      },
      "source": [
        "X_train = X_train.reshape(X_train.shape[0], X_train.shape[1], 1)\n",
        "X_test = X_test.reshape(X_test.shape[0],X_test.shape[1], 1)"
      ],
      "execution_count": 150,
      "outputs": []
    },
    {
      "cell_type": "markdown",
      "metadata": {
        "id": "tTOXEGoyhYF8"
      },
      "source": [
        "Create the Stacked LSTM Model"
      ]
    },
    {
      "cell_type": "code",
      "metadata": {
        "id": "wk1nVChTiGGO"
      },
      "source": [
        "from tensorflow.keras.models import Sequential\n",
        "from tensorflow.keras.layers import Dense\n",
        "from tensorflow.keras.layers import LSTM"
      ],
      "execution_count": 151,
      "outputs": []
    },
    {
      "cell_type": "code",
      "metadata": {
        "id": "JSP2-Hu3iV_T"
      },
      "source": [
        "model = Sequential()\n",
        "model.add(LSTM(50, return_sequences = True, input_shape = (100,1)))\n",
        "model.add(LSTM(50, return_sequences = True))\n",
        "model.add(LSTM(50))\n",
        "model.add(Dense(1))\n",
        "model.compile(loss = 'mean_squared_error', optimizer = 'adam')"
      ],
      "execution_count": 152,
      "outputs": []
    },
    {
      "cell_type": "code",
      "metadata": {
        "colab": {
          "base_uri": "https://localhost:8080/"
        },
        "id": "Qv81nxCvjj_H",
        "outputId": "872543f8-375b-4fc7-9fce-88196ce46ce8"
      },
      "source": [
        "model.summary()"
      ],
      "execution_count": 153,
      "outputs": [
        {
          "output_type": "stream",
          "name": "stdout",
          "text": [
            "Model: \"sequential_1\"\n",
            "_________________________________________________________________\n",
            " Layer (type)                Output Shape              Param #   \n",
            "=================================================================\n",
            " lstm_3 (LSTM)               (None, 100, 50)           10400     \n",
            "                                                                 \n",
            " lstm_4 (LSTM)               (None, 100, 50)           20200     \n",
            "                                                                 \n",
            " lstm_5 (LSTM)               (None, 50)                20200     \n",
            "                                                                 \n",
            " dense_1 (Dense)             (None, 1)                 51        \n",
            "                                                                 \n",
            "=================================================================\n",
            "Total params: 50,851\n",
            "Trainable params: 50,851\n",
            "Non-trainable params: 0\n",
            "_________________________________________________________________\n"
          ]
        }
      ]
    },
    {
      "cell_type": "code",
      "metadata": {
        "colab": {
          "base_uri": "https://localhost:8080/"
        },
        "id": "W-Mzq1dVjmbW",
        "outputId": "aac9c774-c91f-42e1-a737-f64818a8b169"
      },
      "source": [
        "model.fit(X_train, y_train, validation_data = (X_test, y_test), epochs = 100, batch_size = 64, verbose = 1)"
      ],
      "execution_count": 154,
      "outputs": [
        {
          "output_type": "stream",
          "name": "stdout",
          "text": [
            "Epoch 1/100\n",
            "12/12 [==============================] - 12s 338ms/step - loss: 0.0054 - val_loss: 0.1079\n",
            "Epoch 2/100\n",
            "12/12 [==============================] - 3s 209ms/step - loss: 0.0014 - val_loss: 0.0463\n",
            "Epoch 3/100\n",
            "12/12 [==============================] - 3s 217ms/step - loss: 8.2323e-04 - val_loss: 0.0187\n",
            "Epoch 4/100\n",
            "12/12 [==============================] - 3s 214ms/step - loss: 5.6287e-04 - val_loss: 0.0073\n",
            "Epoch 5/100\n",
            "12/12 [==============================] - 3s 216ms/step - loss: 3.4965e-04 - val_loss: 0.0014\n",
            "Epoch 6/100\n",
            "12/12 [==============================] - 3s 214ms/step - loss: 3.4958e-04 - val_loss: 0.0013\n",
            "Epoch 7/100\n",
            "12/12 [==============================] - 3s 225ms/step - loss: 3.5708e-04 - val_loss: 0.0014\n",
            "Epoch 8/100\n",
            "12/12 [==============================] - 3s 221ms/step - loss: 3.2123e-04 - val_loss: 0.0015\n",
            "Epoch 9/100\n",
            "12/12 [==============================] - 3s 227ms/step - loss: 3.1382e-04 - val_loss: 0.0014\n",
            "Epoch 10/100\n",
            "12/12 [==============================] - 3s 221ms/step - loss: 3.1553e-04 - val_loss: 0.0014\n",
            "Epoch 11/100\n",
            "12/12 [==============================] - 3s 220ms/step - loss: 3.4955e-04 - val_loss: 0.0013\n",
            "Epoch 12/100\n",
            "12/12 [==============================] - 3s 220ms/step - loss: 3.0057e-04 - val_loss: 0.0020\n",
            "Epoch 13/100\n",
            "12/12 [==============================] - 3s 220ms/step - loss: 2.9667e-04 - val_loss: 0.0021\n",
            "Epoch 14/100\n",
            "12/12 [==============================] - 3s 223ms/step - loss: 2.8997e-04 - val_loss: 0.0020\n",
            "Epoch 15/100\n",
            "12/12 [==============================] - 3s 224ms/step - loss: 2.8783e-04 - val_loss: 0.0067\n",
            "Epoch 16/100\n",
            "12/12 [==============================] - 3s 220ms/step - loss: 3.1236e-04 - val_loss: 0.0025\n",
            "Epoch 17/100\n",
            "12/12 [==============================] - 3s 223ms/step - loss: 2.8645e-04 - val_loss: 0.0049\n",
            "Epoch 18/100\n",
            "12/12 [==============================] - 3s 226ms/step - loss: 2.6659e-04 - val_loss: 0.0061\n",
            "Epoch 19/100\n",
            "12/12 [==============================] - 3s 224ms/step - loss: 2.8518e-04 - val_loss: 0.0091\n",
            "Epoch 20/100\n",
            "12/12 [==============================] - 3s 219ms/step - loss: 2.6627e-04 - val_loss: 0.0099\n",
            "Epoch 21/100\n",
            "12/12 [==============================] - 3s 217ms/step - loss: 2.6687e-04 - val_loss: 0.0102\n",
            "Epoch 22/100\n",
            "12/12 [==============================] - 3s 211ms/step - loss: 2.5657e-04 - val_loss: 0.0151\n",
            "Epoch 23/100\n",
            "12/12 [==============================] - 3s 221ms/step - loss: 2.5004e-04 - val_loss: 0.0073\n",
            "Epoch 24/100\n",
            "12/12 [==============================] - 3s 223ms/step - loss: 2.5036e-04 - val_loss: 0.0182\n",
            "Epoch 25/100\n",
            "12/12 [==============================] - 3s 222ms/step - loss: 2.6218e-04 - val_loss: 0.0069\n",
            "Epoch 26/100\n",
            "12/12 [==============================] - 3s 219ms/step - loss: 2.5672e-04 - val_loss: 0.0208\n",
            "Epoch 27/100\n",
            "12/12 [==============================] - 3s 223ms/step - loss: 2.4176e-04 - val_loss: 0.0157\n",
            "Epoch 28/100\n",
            "12/12 [==============================] - 3s 220ms/step - loss: 2.3860e-04 - val_loss: 0.0140\n",
            "Epoch 29/100\n",
            "12/12 [==============================] - 3s 221ms/step - loss: 2.3507e-04 - val_loss: 0.0193\n",
            "Epoch 30/100\n",
            "12/12 [==============================] - 3s 222ms/step - loss: 2.4256e-04 - val_loss: 0.0216\n",
            "Epoch 31/100\n",
            "12/12 [==============================] - 3s 222ms/step - loss: 2.5675e-04 - val_loss: 0.0062\n",
            "Epoch 32/100\n",
            "12/12 [==============================] - 3s 218ms/step - loss: 3.0537e-04 - val_loss: 0.0231\n",
            "Epoch 33/100\n",
            "12/12 [==============================] - 3s 221ms/step - loss: 2.6128e-04 - val_loss: 0.0124\n",
            "Epoch 34/100\n",
            "12/12 [==============================] - 3s 220ms/step - loss: 2.2981e-04 - val_loss: 0.0204\n",
            "Epoch 35/100\n",
            "12/12 [==============================] - 3s 224ms/step - loss: 2.3113e-04 - val_loss: 0.0246\n",
            "Epoch 36/100\n",
            "12/12 [==============================] - 3s 219ms/step - loss: 2.2409e-04 - val_loss: 0.0123\n",
            "Epoch 37/100\n",
            "12/12 [==============================] - 3s 221ms/step - loss: 3.0662e-04 - val_loss: 0.0242\n",
            "Epoch 38/100\n",
            "12/12 [==============================] - 3s 222ms/step - loss: 2.6778e-04 - val_loss: 0.0135\n",
            "Epoch 39/100\n",
            "12/12 [==============================] - 3s 217ms/step - loss: 2.2632e-04 - val_loss: 0.0285\n",
            "Epoch 40/100\n",
            "12/12 [==============================] - 3s 221ms/step - loss: 2.2886e-04 - val_loss: 0.0153\n",
            "Epoch 41/100\n",
            "12/12 [==============================] - 3s 229ms/step - loss: 2.2299e-04 - val_loss: 0.0164\n",
            "Epoch 42/100\n",
            "12/12 [==============================] - 3s 220ms/step - loss: 2.1828e-04 - val_loss: 0.0211\n",
            "Epoch 43/100\n",
            "12/12 [==============================] - 3s 220ms/step - loss: 2.0967e-04 - val_loss: 0.0269\n",
            "Epoch 44/100\n",
            "12/12 [==============================] - 3s 221ms/step - loss: 2.1920e-04 - val_loss: 0.0191\n",
            "Epoch 45/100\n",
            "12/12 [==============================] - 3s 223ms/step - loss: 2.0706e-04 - val_loss: 0.0202\n",
            "Epoch 46/100\n",
            "12/12 [==============================] - 3s 222ms/step - loss: 1.9940e-04 - val_loss: 0.0202\n",
            "Epoch 47/100\n",
            "12/12 [==============================] - 3s 220ms/step - loss: 1.9809e-04 - val_loss: 0.0286\n",
            "Epoch 48/100\n",
            "12/12 [==============================] - 3s 229ms/step - loss: 2.0214e-04 - val_loss: 0.0230\n",
            "Epoch 49/100\n",
            "12/12 [==============================] - 3s 219ms/step - loss: 1.8799e-04 - val_loss: 0.0215\n",
            "Epoch 50/100\n",
            "12/12 [==============================] - 3s 220ms/step - loss: 1.9943e-04 - val_loss: 0.0270\n",
            "Epoch 51/100\n",
            "12/12 [==============================] - 3s 226ms/step - loss: 2.0806e-04 - val_loss: 0.0187\n",
            "Epoch 52/100\n",
            "12/12 [==============================] - 3s 223ms/step - loss: 1.8918e-04 - val_loss: 0.0199\n",
            "Epoch 53/100\n",
            "12/12 [==============================] - 3s 220ms/step - loss: 1.8197e-04 - val_loss: 0.0259\n",
            "Epoch 54/100\n",
            "12/12 [==============================] - 3s 213ms/step - loss: 1.7403e-04 - val_loss: 0.0191\n",
            "Epoch 55/100\n",
            "12/12 [==============================] - 3s 227ms/step - loss: 1.7743e-04 - val_loss: 0.0238\n",
            "Epoch 56/100\n",
            "12/12 [==============================] - 3s 218ms/step - loss: 1.7085e-04 - val_loss: 0.0225\n",
            "Epoch 57/100\n",
            "12/12 [==============================] - 3s 221ms/step - loss: 1.7004e-04 - val_loss: 0.0238\n",
            "Epoch 58/100\n",
            "12/12 [==============================] - 3s 217ms/step - loss: 1.6979e-04 - val_loss: 0.0186\n",
            "Epoch 59/100\n",
            "12/12 [==============================] - 2s 206ms/step - loss: 1.6091e-04 - val_loss: 0.0236\n",
            "Epoch 60/100\n",
            "12/12 [==============================] - 3s 224ms/step - loss: 1.7339e-04 - val_loss: 0.0207\n",
            "Epoch 61/100\n",
            "12/12 [==============================] - 3s 220ms/step - loss: 1.5427e-04 - val_loss: 0.0139\n",
            "Epoch 62/100\n",
            "12/12 [==============================] - 3s 223ms/step - loss: 1.5550e-04 - val_loss: 0.0154\n",
            "Epoch 63/100\n",
            "12/12 [==============================] - 3s 221ms/step - loss: 1.5738e-04 - val_loss: 0.0157\n",
            "Epoch 64/100\n",
            "12/12 [==============================] - 3s 218ms/step - loss: 1.7638e-04 - val_loss: 0.0191\n",
            "Epoch 65/100\n",
            "12/12 [==============================] - 3s 220ms/step - loss: 1.5059e-04 - val_loss: 0.0206\n",
            "Epoch 66/100\n",
            "12/12 [==============================] - 3s 221ms/step - loss: 1.4539e-04 - val_loss: 0.0170\n",
            "Epoch 67/100\n",
            "12/12 [==============================] - 3s 221ms/step - loss: 1.4740e-04 - val_loss: 0.0133\n",
            "Epoch 68/100\n",
            "12/12 [==============================] - 3s 231ms/step - loss: 1.4965e-04 - val_loss: 0.0300\n",
            "Epoch 69/100\n",
            "12/12 [==============================] - 3s 216ms/step - loss: 1.7254e-04 - val_loss: 0.0152\n",
            "Epoch 70/100\n",
            "12/12 [==============================] - 3s 224ms/step - loss: 1.4516e-04 - val_loss: 0.0153\n",
            "Epoch 71/100\n",
            "12/12 [==============================] - 3s 223ms/step - loss: 1.2961e-04 - val_loss: 0.0171\n",
            "Epoch 72/100\n",
            "12/12 [==============================] - 3s 225ms/step - loss: 1.3399e-04 - val_loss: 0.0148\n",
            "Epoch 73/100\n",
            "12/12 [==============================] - 3s 223ms/step - loss: 1.3121e-04 - val_loss: 0.0154\n",
            "Epoch 74/100\n",
            "12/12 [==============================] - 3s 217ms/step - loss: 1.4681e-04 - val_loss: 0.0114\n",
            "Epoch 75/100\n",
            "12/12 [==============================] - 3s 224ms/step - loss: 1.2904e-04 - val_loss: 0.0183\n",
            "Epoch 76/100\n",
            "12/12 [==============================] - 3s 224ms/step - loss: 1.2574e-04 - val_loss: 0.0138\n",
            "Epoch 77/100\n",
            "12/12 [==============================] - 3s 221ms/step - loss: 1.2370e-04 - val_loss: 0.0116\n",
            "Epoch 78/100\n",
            "12/12 [==============================] - 3s 224ms/step - loss: 1.1886e-04 - val_loss: 0.0198\n",
            "Epoch 79/100\n",
            "12/12 [==============================] - 3s 220ms/step - loss: 1.2291e-04 - val_loss: 0.0066\n",
            "Epoch 80/100\n",
            "12/12 [==============================] - 3s 227ms/step - loss: 1.2836e-04 - val_loss: 0.0152\n",
            "Epoch 81/100\n",
            "12/12 [==============================] - 2s 205ms/step - loss: 1.2309e-04 - val_loss: 0.0129\n",
            "Epoch 82/100\n",
            "12/12 [==============================] - 3s 217ms/step - loss: 1.1352e-04 - val_loss: 0.0083\n",
            "Epoch 83/100\n",
            "12/12 [==============================] - 3s 220ms/step - loss: 1.2135e-04 - val_loss: 0.0133\n",
            "Epoch 84/100\n",
            "12/12 [==============================] - 3s 228ms/step - loss: 1.0928e-04 - val_loss: 0.0072\n",
            "Epoch 85/100\n",
            "12/12 [==============================] - 3s 222ms/step - loss: 1.1663e-04 - val_loss: 0.0106\n",
            "Epoch 86/100\n",
            "12/12 [==============================] - 3s 225ms/step - loss: 1.0972e-04 - val_loss: 0.0120\n",
            "Epoch 87/100\n",
            "12/12 [==============================] - 3s 223ms/step - loss: 1.1924e-04 - val_loss: 0.0109\n",
            "Epoch 88/100\n",
            "12/12 [==============================] - 3s 225ms/step - loss: 1.1667e-04 - val_loss: 0.0040\n",
            "Epoch 89/100\n",
            "12/12 [==============================] - 3s 215ms/step - loss: 1.1146e-04 - val_loss: 0.0127\n",
            "Epoch 90/100\n",
            "12/12 [==============================] - 3s 220ms/step - loss: 1.0219e-04 - val_loss: 0.0100\n",
            "Epoch 91/100\n",
            "12/12 [==============================] - 3s 225ms/step - loss: 1.1587e-04 - val_loss: 0.0061\n",
            "Epoch 92/100\n",
            "12/12 [==============================] - 3s 227ms/step - loss: 1.0375e-04 - val_loss: 0.0071\n",
            "Epoch 93/100\n",
            "12/12 [==============================] - 3s 227ms/step - loss: 1.1097e-04 - val_loss: 0.0076\n",
            "Epoch 94/100\n",
            "12/12 [==============================] - 3s 222ms/step - loss: 9.7866e-05 - val_loss: 0.0076\n",
            "Epoch 95/100\n",
            "12/12 [==============================] - 3s 211ms/step - loss: 1.0236e-04 - val_loss: 0.0066\n",
            "Epoch 96/100\n",
            "12/12 [==============================] - 2s 205ms/step - loss: 1.0172e-04 - val_loss: 0.0046\n",
            "Epoch 97/100\n",
            "12/12 [==============================] - 3s 221ms/step - loss: 1.0596e-04 - val_loss: 0.0061\n",
            "Epoch 98/100\n",
            "12/12 [==============================] - 2s 209ms/step - loss: 1.0292e-04 - val_loss: 0.0078\n",
            "Epoch 99/100\n",
            "12/12 [==============================] - 3s 222ms/step - loss: 1.1014e-04 - val_loss: 0.0029\n",
            "Epoch 100/100\n",
            "12/12 [==============================] - 3s 227ms/step - loss: 1.1207e-04 - val_loss: 0.0034\n"
          ]
        },
        {
          "output_type": "execute_result",
          "data": {
            "text/plain": [
              "<keras.callbacks.History at 0x7f1ea90ee910>"
            ]
          },
          "metadata": {},
          "execution_count": 154
        }
      ]
    },
    {
      "cell_type": "code",
      "metadata": {
        "id": "tGmCVhSTlTKG"
      },
      "source": [
        "import tensorflow as tf"
      ],
      "execution_count": 155,
      "outputs": []
    },
    {
      "cell_type": "code",
      "metadata": {
        "colab": {
          "base_uri": "https://localhost:8080/",
          "height": 35
        },
        "id": "0UVgcgwhldrV",
        "outputId": "c6e1a13f-4e3a-4752-8f6b-2b4812467f48"
      },
      "source": [
        "tf.__version__"
      ],
      "execution_count": 156,
      "outputs": [
        {
          "output_type": "execute_result",
          "data": {
            "application/vnd.google.colaboratory.intrinsic+json": {
              "type": "string"
            },
            "text/plain": [
              "'2.7.0'"
            ]
          },
          "metadata": {},
          "execution_count": 156
        }
      ]
    },
    {
      "cell_type": "markdown",
      "metadata": {
        "id": "41XsoUv2lsHW"
      },
      "source": [
        "Let's do the prediction and check performance metrics"
      ]
    },
    {
      "cell_type": "code",
      "metadata": {
        "id": "0YZOdhuYlipW"
      },
      "source": [
        "train_predict = model.predict(X_train)\n",
        "test_predict = model.predict(X_test)"
      ],
      "execution_count": 157,
      "outputs": []
    },
    {
      "cell_type": "markdown",
      "metadata": {
        "id": "FWyXacV2mFxZ"
      },
      "source": [
        "Transform back to original form."
      ]
    },
    {
      "cell_type": "code",
      "metadata": {
        "id": "4qmCcxwimDj3"
      },
      "source": [
        "train_predict = scaler.inverse_transform(train_predict)\n",
        "test_predict = scaler.inverse_transform(test_predict)"
      ],
      "execution_count": 158,
      "outputs": []
    },
    {
      "cell_type": "markdown",
      "metadata": {
        "id": "Y-_87gO6muLX"
      },
      "source": [
        "Calculate RMSE performance metrics."
      ]
    },
    {
      "cell_type": "code",
      "metadata": {
        "colab": {
          "base_uri": "https://localhost:8080/"
        },
        "id": "3Z1EeYEnmi5M",
        "outputId": "ac43f064-ff06-4aae-91c1-0f755b74d7db"
      },
      "source": [
        "import math\n",
        "from sklearn.metrics import mean_squared_error\n",
        "math.sqrt(mean_squared_error(y_train, train_predict))"
      ],
      "execution_count": 159,
      "outputs": [
        {
          "output_type": "execute_result",
          "data": {
            "text/plain": [
              "1112.8433178954735"
            ]
          },
          "metadata": {},
          "execution_count": 159
        }
      ]
    },
    {
      "cell_type": "markdown",
      "metadata": {
        "id": "nLOCvNZEnPdD"
      },
      "source": [
        "Test data RMSE"
      ]
    },
    {
      "cell_type": "code",
      "metadata": {
        "colab": {
          "base_uri": "https://localhost:8080/"
        },
        "id": "ly2x2ShEnRES",
        "outputId": "92245969-46c1-4914-82a9-fb36d217c7b4"
      },
      "source": [
        "math.sqrt(mean_squared_error(y_test, test_predict))"
      ],
      "execution_count": 160,
      "outputs": [
        {
          "output_type": "execute_result",
          "data": {
            "text/plain": [
              "2302.4688154130854"
            ]
          },
          "metadata": {},
          "execution_count": 160
        }
      ]
    },
    {
      "cell_type": "markdown",
      "metadata": {
        "id": "21kDNsgNnv3S"
      },
      "source": [
        "Plotting- shift train predictions for plotting."
      ]
    },
    {
      "cell_type": "code",
      "metadata": {
        "colab": {
          "base_uri": "https://localhost:8080/",
          "height": 265
        },
        "id": "j5redX-ln0Vr",
        "outputId": "d7432c62-e9b5-4b8b-dde3-d1accc1f8df0"
      },
      "source": [
        "look_back = 100\n",
        "trainPredictPlot = numpy.empty_like(df1)\n",
        "trainPredictPlot[:, :] = np.nan\n",
        "trainPredictPlot[look_back:len(train_predict) + look_back, :] = train_predict\n",
        "testPredictPlot = numpy.empty_like(df1)\n",
        "testPredictPlot[:, :] = numpy.nan\n",
        "testPredictPlot[len(train_predict) + (look_back*2) + 1: len(df1) - 1, :] = test_predict\n",
        "plt.plot(scaler.inverse_transform(df1))\n",
        "plt.plot(trainPredictPlot)\n",
        "plt.plot(testPredictPlot)\n",
        "plt.show()"
      ],
      "execution_count": 161,
      "outputs": [
        {
          "output_type": "display_data",
          "data": {
            "image/png": "[encoded data removed]",
            "text/plain": [
              "<Figure size 432x288 with 1 Axes>"
            ]
          },
          "metadata": {
            "needs_background": "light"
          }
        }
      ]
    },
    {
      "cell_type": "code",
      "metadata": {
        "colab": {
          "base_uri": "https://localhost:8080/"
        },
        "id": "cZXhrv6op3CE",
        "outputId": "f4937965-10a1-4caa-82e2-18504713eeb0"
      },
      "source": [
        "len(test_data)"
      ],
      "execution_count": 162,
      "outputs": [
        {
          "output_type": "execute_result",
          "data": {
            "text/plain": [
              "440"
            ]
          },
          "metadata": {},
          "execution_count": 162
        }
      ]
    },
    {
      "cell_type": "code",
      "metadata": {
        "colab": {
          "base_uri": "https://localhost:8080/"
        },
        "id": "NHmGbYkhp5kN",
        "outputId": "1f130b25-86db-458e-c562-cc8ba108facd"
      },
      "source": [
        "x_input = test_data[340: ].reshape(1,-1)\n",
        "x_input.shape"
      ],
      "execution_count": 163,
      "outputs": [
        {
          "output_type": "execute_result",
          "data": {
            "text/plain": [
              "(1, 100)"
            ]
          },
          "metadata": {},
          "execution_count": 163
        }
      ]
    },
    {
      "cell_type": "code",
      "metadata": {
        "id": "5yTXMYN_r_lS"
      },
      "source": [
        "temp_input = list(x_input)\n",
        "temp_input = temp_input[0].tolist()"
      ],
      "execution_count": 164,
      "outputs": []
    },
    {
      "cell_type": "code",
      "metadata": {
        "colab": {
          "base_uri": "https://localhost:8080/"
        },
        "id": "BqvPYpiTtVGO",
        "outputId": "56135a28-2c31-4cb3-efca-85e3bf65915a"
      },
      "source": [
        "temp_input"
      ],
      "execution_count": 165,
      "outputs": [
        {
          "output_type": "execute_result",
          "data": {
            "text/plain": [
              "[0.8007697138962757,\n",
              " 0.7982129096343415,\n",
              " 0.7966494282825314,\n",
              " 0.7895135390358086,\n",
              " 0.7832551592657431,\n",
              " 0.7926315930137775,\n",
              " 0.8135715526572502,\n",
              " 0.8229435320424592,\n",
              " 0.8256740564545946,\n",
              " 0.8176517490055635,\n",
              " 0.8211929674519709,\n",
              " 0.8300081514839712,\n",
              " 0.8338433578768725,\n",
              " 0.8435360513855297,\n",
              " 0.8362665312540369,\n",
              " 0.8414246834061623,\n",
              " 0.8183377208807168,\n",
              " 0.834796591521566,\n",
              " 0.8481507712729235,\n",
              " 0.8546363235470984,\n",
              " 0.8946142299074831,\n",
              " 0.9109038347609566,\n",
              " 0.8855317841059427,\n",
              " 0.8818346629606368,\n",
              " 0.8832511503391998,\n",
              " 0.8714960868422579,\n",
              " 0.8783424425053119,\n",
              " 0.880930427307026,\n",
              " 0.8786898828057141,\n",
              " 0.88681018623691,\n",
              " 0.8876654238994384,\n",
              " 0.8962712528786321,\n",
              " 0.8971131274526836,\n",
              " 0.8934872761125885,\n",
              " 0.8997233840685259,\n",
              " 0.8998703780417732,\n",
              " 0.9044138281239562,\n",
              " 0.8900217818342178,\n",
              " 0.8835139577459143,\n",
              " 0.8865741050071494,\n",
              " 0.9001465485369646,\n",
              " 0.9238660305836552,\n",
              " 0.9354384652047447,\n",
              " 0.9403516274014585,\n",
              " 0.932984111287801,\n",
              " 0.954610042806427,\n",
              " 0.9627971616800075,\n",
              " 0.9627303462376224,\n",
              " 0.9661156619851314,\n",
              " 0.9516568002530079,\n",
              " 0.9566100517151526,\n",
              " 0.963238143599749,\n",
              " 0.9575766484483228,\n",
              " 0.9578439102178631,\n",
              " 0.9311845487062305,\n",
              " 0.9449396211118983,\n",
              " 0.9444140062984692,\n",
              " 0.9604497124708797,\n",
              " 0.9530331983661398,\n",
              " 0.9271088067207427,\n",
              " 0.9053136094147414,\n",
              " 0.9109216522122594,\n",
              " 0.9224317257537897,\n",
              " 0.930342674132179,\n",
              " 0.9375275613699838,\n",
              " 0.927442883932668,\n",
              " 0.8800751896444974,\n",
              " 0.8652599788863204,\n",
              " 0.8540750738310638,\n",
              " 0.8825562697383953,\n",
              " 0.8585249822939081,\n",
              " 0.880012828564938,\n",
              " 0.8904983986565642,\n",
              " 0.906814729686992,\n",
              " 0.9145697753664828,\n",
              " 0.9038035804168394,\n",
              " 0.884787905514056,\n",
              " 0.8953625628621955,\n",
              " 0.9266500073496986,\n",
              " 0.9289930021960009,\n",
              " 0.9404451690207976,\n",
              " 0.9481200361694262,\n",
              " 0.935585459177992,\n",
              " 0.9388415984035565,\n",
              " 0.9018213889594164,\n",
              " 0.9031398803558146,\n",
              " 0.9111488247163686,\n",
              " 0.9713317208539907,\n",
              " 0.9686724662470658,\n",
              " 0.9877505022294086,\n",
              " 0.947692417338162,\n",
              " 0.9663027452238098,\n",
              " 0.974561133902601,\n",
              " 0.991425351560586,\n",
              " 0.9963964204740334,\n",
              " 0.9973808346585065,\n",
              " 0.9964632359164183,\n",
              " 0.9731001028957813,\n",
              " 0.9741869674252448,\n",
              " 1.0]"
            ]
          },
          "metadata": {},
          "execution_count": 165
        }
      ]
    },
    {
      "cell_type": "markdown",
      "metadata": {
        "id": "H5NSXedOtbmH"
      },
      "source": [
        "Demonstrate prediction for next 10 days."
      ]
    },
    {
      "cell_type": "code",
      "metadata": {
        "id": "50pidlKitYBp",
        "colab": {
          "base_uri": "https://localhost:8080/"
        },
        "outputId": "33e224cb-6e18-4d93-c366-fd677e2a940f"
      },
      "source": [
        "from numpy import array\n",
        "\n",
        "lst_output = []\n",
        "n_steps = 100\n",
        "i = 0\n",
        "while (i<30):\n",
        "\n",
        "    if (len(temp_input)>100):\n",
        "      #print(temp_input)\n",
        "      x_input = np.array(temp_input[1: ])\n",
        "      print(\"{} day input {}\".format(i, x_input))\n",
        "      x_input = x_input.reshape(1,-1)\n",
        "      x_input = x_input.reshape((1, n_steps, 1))\n",
        "      #print(x_input)\n",
        "      yhat = model.predict(x_input, verbose = 0)\n",
        "      print(\"{} day output {}\".format(i, yhat))\n",
        "      temp_input.extend(yhat[0].tolist())\n",
        "      temp_input = temp_input[1: ]\n",
        "      #print(temp_input)\n",
        "      lst_output.extend(yhat.tolist())\n",
        "      i = i + 1\n",
        "    else:\n",
        "      x_input = x_input.reshape((1, n_steps,1))\n",
        "      yhat = model.predict(x_input, verbose = 0)\n",
        "      print(yhat[0])\n",
        "      temp_input.extend(yhat[0].tolist())\n",
        "      print(len(temp_input))\n",
        "      lst_output.extend(yhat.tolist())\n",
        "      i = i + 1\n",
        "\n",
        "\n",
        "print(lst_output)"
      ],
      "execution_count": 166,
      "outputs": [
        {
          "output_type": "stream",
          "name": "stdout",
          "text": [
            "[1.1027443]\n",
            "101\n",
            "1 day input [0.79821291 0.79664943 0.78951354 0.78325516 0.79263159 0.81357155\n",
            " 0.82294353 0.82567406 0.81765175 0.82119297 0.83000815 0.83384336\n",
            " 0.84353605 0.83626653 0.84142468 0.81833772 0.83479659 0.84815077\n",
            " 0.85463632 0.89461423 0.91090383 0.88553178 0.88183466 0.88325115\n",
            " 0.87149609 0.87834244 0.88093043 0.87868988 0.88681019 0.88766542\n",
            " 0.89627125 0.89711313 0.89348728 0.89972338 0.89987038 0.90441383\n",
            " 0.89002178 0.88351396 0.88657411 0.90014655 0.92386603 0.93543847\n",
            " 0.94035163 0.93298411 0.95461004 0.96279716 0.96273035 0.96611566\n",
            " 0.9516568  0.95661005 0.96323814 0.95757665 0.95784391 0.93118455\n",
            " 0.94493962 0.94441401 0.96044971 0.9530332  0.92710881 0.90531361\n",
            " 0.91092165 0.92243173 0.93034267 0.93752756 0.92744288 0.88007519\n",
            " 0.86525998 0.85407507 0.88255627 0.85852498 0.88001283 0.8904984\n",
            " 0.90681473 0.91456978 0.90380358 0.88478791 0.89536256 0.92665001\n",
            " 0.928993   0.94044517 0.94812004 0.93558546 0.9388416  0.90182139\n",
            " 0.90313988 0.91114882 0.97133172 0.96867247 0.9877505  0.94769242\n",
            " 0.96630275 0.97456113 0.99142535 0.99639642 0.99738083 0.99646324\n",
            " 0.9731001  0.97418697 1.         1.10274434]\n",
            "1 day output [[1.1770207]]\n",
            "2 day input [0.79664943 0.78951354 0.78325516 0.79263159 0.81357155 0.82294353\n",
            " 0.82567406 0.81765175 0.82119297 0.83000815 0.83384336 0.84353605\n",
            " 0.83626653 0.84142468 0.81833772 0.83479659 0.84815077 0.85463632\n",
            " 0.89461423 0.91090383 0.88553178 0.88183466 0.88325115 0.87149609\n",
            " 0.87834244 0.88093043 0.87868988 0.88681019 0.88766542 0.89627125\n",
            " 0.89711313 0.89348728 0.89972338 0.89987038 0.90441383 0.89002178\n",
            " 0.88351396 0.88657411 0.90014655 0.92386603 0.93543847 0.94035163\n",
            " 0.93298411 0.95461004 0.96279716 0.96273035 0.96611566 0.9516568\n",
            " 0.95661005 0.96323814 0.95757665 0.95784391 0.93118455 0.94493962\n",
            " 0.94441401 0.96044971 0.9530332  0.92710881 0.90531361 0.91092165\n",
            " 0.92243173 0.93034267 0.93752756 0.92744288 0.88007519 0.86525998\n",
            " 0.85407507 0.88255627 0.85852498 0.88001283 0.8904984  0.90681473\n",
            " 0.91456978 0.90380358 0.88478791 0.89536256 0.92665001 0.928993\n",
            " 0.94044517 0.94812004 0.93558546 0.9388416  0.90182139 0.90313988\n",
            " 0.91114882 0.97133172 0.96867247 0.9877505  0.94769242 0.96630275\n",
            " 0.97456113 0.99142535 0.99639642 0.99738083 0.99646324 0.9731001\n",
            " 0.97418697 1.         1.10274434 1.17702067]\n",
            "2 day output [[1.2832196]]\n",
            "3 day input [0.78951354 0.78325516 0.79263159 0.81357155 0.82294353 0.82567406\n",
            " 0.81765175 0.82119297 0.83000815 0.83384336 0.84353605 0.83626653\n",
            " 0.84142468 0.81833772 0.83479659 0.84815077 0.85463632 0.89461423\n",
            " 0.91090383 0.88553178 0.88183466 0.88325115 0.87149609 0.87834244\n",
            " 0.88093043 0.87868988 0.88681019 0.88766542 0.89627125 0.89711313\n",
            " 0.89348728 0.89972338 0.89987038 0.90441383 0.89002178 0.88351396\n",
            " 0.88657411 0.90014655 0.92386603 0.93543847 0.94035163 0.93298411\n",
            " 0.95461004 0.96279716 0.96273035 0.96611566 0.9516568  0.95661005\n",
            " 0.96323814 0.95757665 0.95784391 0.93118455 0.94493962 0.94441401\n",
            " 0.96044971 0.9530332  0.92710881 0.90531361 0.91092165 0.92243173\n",
            " 0.93034267 0.93752756 0.92744288 0.88007519 0.86525998 0.85407507\n",
            " 0.88255627 0.85852498 0.88001283 0.8904984  0.90681473 0.91456978\n",
            " 0.90380358 0.88478791 0.89536256 0.92665001 0.928993   0.94044517\n",
            " 0.94812004 0.93558546 0.9388416  0.90182139 0.90313988 0.91114882\n",
            " 0.97133172 0.96867247 0.9877505  0.94769242 0.96630275 0.97456113\n",
            " 0.99142535 0.99639642 0.99738083 0.99646324 0.9731001  0.97418697\n",
            " 1.         1.10274434 1.17702067 1.28321958]\n",
            "3 day output [[1.4036479]]\n",
            "4 day input [0.78325516 0.79263159 0.81357155 0.82294353 0.82567406 0.81765175\n",
            " 0.82119297 0.83000815 0.83384336 0.84353605 0.83626653 0.84142468\n",
            " 0.81833772 0.83479659 0.84815077 0.85463632 0.89461423 0.91090383\n",
            " 0.88553178 0.88183466 0.88325115 0.87149609 0.87834244 0.88093043\n",
            " 0.87868988 0.88681019 0.88766542 0.89627125 0.89711313 0.89348728\n",
            " 0.89972338 0.89987038 0.90441383 0.89002178 0.88351396 0.88657411\n",
            " 0.90014655 0.92386603 0.93543847 0.94035163 0.93298411 0.95461004\n",
            " 0.96279716 0.96273035 0.96611566 0.9516568  0.95661005 0.96323814\n",
            " 0.95757665 0.95784391 0.93118455 0.94493962 0.94441401 0.96044971\n",
            " 0.9530332  0.92710881 0.90531361 0.91092165 0.92243173 0.93034267\n",
            " 0.93752756 0.92744288 0.88007519 0.86525998 0.85407507 0.88255627\n",
            " 0.85852498 0.88001283 0.8904984  0.90681473 0.91456978 0.90380358\n",
            " 0.88478791 0.89536256 0.92665001 0.928993   0.94044517 0.94812004\n",
            " 0.93558546 0.9388416  0.90182139 0.90313988 0.91114882 0.97133172\n",
            " 0.96867247 0.9877505  0.94769242 0.96630275 0.97456113 0.99142535\n",
            " 0.99639642 0.99738083 0.99646324 0.9731001  0.97418697 1.\n",
            " 1.10274434 1.17702067 1.28321958 1.4036479 ]\n",
            "4 day output [[1.5305852]]\n",
            "5 day input [0.79263159 0.81357155 0.82294353 0.82567406 0.81765175 0.82119297\n",
            " 0.83000815 0.83384336 0.84353605 0.83626653 0.84142468 0.81833772\n",
            " 0.83479659 0.84815077 0.85463632 0.89461423 0.91090383 0.88553178\n",
            " 0.88183466 0.88325115 0.87149609 0.87834244 0.88093043 0.87868988\n",
            " 0.88681019 0.88766542 0.89627125 0.89711313 0.89348728 0.89972338\n",
            " 0.89987038 0.90441383 0.89002178 0.88351396 0.88657411 0.90014655\n",
            " 0.92386603 0.93543847 0.94035163 0.93298411 0.95461004 0.96279716\n",
            " 0.96273035 0.96611566 0.9516568  0.95661005 0.96323814 0.95757665\n",
            " 0.95784391 0.93118455 0.94493962 0.94441401 0.96044971 0.9530332\n",
            " 0.92710881 0.90531361 0.91092165 0.92243173 0.93034267 0.93752756\n",
            " 0.92744288 0.88007519 0.86525998 0.85407507 0.88255627 0.85852498\n",
            " 0.88001283 0.8904984  0.90681473 0.91456978 0.90380358 0.88478791\n",
            " 0.89536256 0.92665001 0.928993   0.94044517 0.94812004 0.93558546\n",
            " 0.9388416  0.90182139 0.90313988 0.91114882 0.97133172 0.96867247\n",
            " 0.9877505  0.94769242 0.96630275 0.97456113 0.99142535 0.99639642\n",
            " 0.99738083 0.99646324 0.9731001  0.97418697 1.         1.10274434\n",
            " 1.17702067 1.28321958 1.4036479  1.53058517]\n",
            "5 day output [[1.6589388]]\n",
            "6 day input [0.81357155 0.82294353 0.82567406 0.81765175 0.82119297 0.83000815\n",
            " 0.83384336 0.84353605 0.83626653 0.84142468 0.81833772 0.83479659\n",
            " 0.84815077 0.85463632 0.89461423 0.91090383 0.88553178 0.88183466\n",
            " 0.88325115 0.87149609 0.87834244 0.88093043 0.87868988 0.88681019\n",
            " 0.88766542 0.89627125 0.89711313 0.89348728 0.89972338 0.89987038\n",
            " 0.90441383 0.89002178 0.88351396 0.88657411 0.90014655 0.92386603\n",
            " 0.93543847 0.94035163 0.93298411 0.95461004 0.96279716 0.96273035\n",
            " 0.96611566 0.9516568  0.95661005 0.96323814 0.95757665 0.95784391\n",
            " 0.93118455 0.94493962 0.94441401 0.96044971 0.9530332  0.92710881\n",
            " 0.90531361 0.91092165 0.92243173 0.93034267 0.93752756 0.92744288\n",
            " 0.88007519 0.86525998 0.85407507 0.88255627 0.85852498 0.88001283\n",
            " 0.8904984  0.90681473 0.91456978 0.90380358 0.88478791 0.89536256\n",
            " 0.92665001 0.928993   0.94044517 0.94812004 0.93558546 0.9388416\n",
            " 0.90182139 0.90313988 0.91114882 0.97133172 0.96867247 0.9877505\n",
            " 0.94769242 0.96630275 0.97456113 0.99142535 0.99639642 0.99738083\n",
            " 0.99646324 0.9731001  0.97418697 1.         1.10274434 1.17702067\n",
            " 1.28321958 1.4036479  1.53058517 1.65893877]\n",
            "6 day output [[1.7846484]]\n",
            "7 day input [0.82294353 0.82567406 0.81765175 0.82119297 0.83000815 0.83384336\n",
            " 0.84353605 0.83626653 0.84142468 0.81833772 0.83479659 0.84815077\n",
            " 0.85463632 0.89461423 0.91090383 0.88553178 0.88183466 0.88325115\n",
            " 0.87149609 0.87834244 0.88093043 0.87868988 0.88681019 0.88766542\n",
            " 0.89627125 0.89711313 0.89348728 0.89972338 0.89987038 0.90441383\n",
            " 0.89002178 0.88351396 0.88657411 0.90014655 0.92386603 0.93543847\n",
            " 0.94035163 0.93298411 0.95461004 0.96279716 0.96273035 0.96611566\n",
            " 0.9516568  0.95661005 0.96323814 0.95757665 0.95784391 0.93118455\n",
            " 0.94493962 0.94441401 0.96044971 0.9530332  0.92710881 0.90531361\n",
            " 0.91092165 0.92243173 0.93034267 0.93752756 0.92744288 0.88007519\n",
            " 0.86525998 0.85407507 0.88255627 0.85852498 0.88001283 0.8904984\n",
            " 0.90681473 0.91456978 0.90380358 0.88478791 0.89536256 0.92665001\n",
            " 0.928993   0.94044517 0.94812004 0.93558546 0.9388416  0.90182139\n",
            " 0.90313988 0.91114882 0.97133172 0.96867247 0.9877505  0.94769242\n",
            " 0.96630275 0.97456113 0.99142535 0.99639642 0.99738083 0.99646324\n",
            " 0.9731001  0.97418697 1.         1.10274434 1.17702067 1.28321958\n",
            " 1.4036479  1.53058517 1.65893877 1.78464842]\n",
            "7 day output [[1.9050704]]\n",
            "8 day input [0.82567406 0.81765175 0.82119297 0.83000815 0.83384336 0.84353605\n",
            " 0.83626653 0.84142468 0.81833772 0.83479659 0.84815077 0.85463632\n",
            " 0.89461423 0.91090383 0.88553178 0.88183466 0.88325115 0.87149609\n",
            " 0.87834244 0.88093043 0.87868988 0.88681019 0.88766542 0.89627125\n",
            " 0.89711313 0.89348728 0.89972338 0.89987038 0.90441383 0.89002178\n",
            " 0.88351396 0.88657411 0.90014655 0.92386603 0.93543847 0.94035163\n",
            " 0.93298411 0.95461004 0.96279716 0.96273035 0.96611566 0.9516568\n",
            " 0.95661005 0.96323814 0.95757665 0.95784391 0.93118455 0.94493962\n",
            " 0.94441401 0.96044971 0.9530332  0.92710881 0.90531361 0.91092165\n",
            " 0.92243173 0.93034267 0.93752756 0.92744288 0.88007519 0.86525998\n",
            " 0.85407507 0.88255627 0.85852498 0.88001283 0.8904984  0.90681473\n",
            " 0.91456978 0.90380358 0.88478791 0.89536256 0.92665001 0.928993\n",
            " 0.94044517 0.94812004 0.93558546 0.9388416  0.90182139 0.90313988\n",
            " 0.91114882 0.97133172 0.96867247 0.9877505  0.94769242 0.96630275\n",
            " 0.97456113 0.99142535 0.99639642 0.99738083 0.99646324 0.9731001\n",
            " 0.97418697 1.         1.10274434 1.17702067 1.28321958 1.4036479\n",
            " 1.53058517 1.65893877 1.78464842 1.90507042]\n",
            "8 day output [[2.0191138]]\n",
            "9 day input [0.81765175 0.82119297 0.83000815 0.83384336 0.84353605 0.83626653\n",
            " 0.84142468 0.81833772 0.83479659 0.84815077 0.85463632 0.89461423\n",
            " 0.91090383 0.88553178 0.88183466 0.88325115 0.87149609 0.87834244\n",
            " 0.88093043 0.87868988 0.88681019 0.88766542 0.89627125 0.89711313\n",
            " 0.89348728 0.89972338 0.89987038 0.90441383 0.89002178 0.88351396\n",
            " 0.88657411 0.90014655 0.92386603 0.93543847 0.94035163 0.93298411\n",
            " 0.95461004 0.96279716 0.96273035 0.96611566 0.9516568  0.95661005\n",
            " 0.96323814 0.95757665 0.95784391 0.93118455 0.94493962 0.94441401\n",
            " 0.96044971 0.9530332  0.92710881 0.90531361 0.91092165 0.92243173\n",
            " 0.93034267 0.93752756 0.92744288 0.88007519 0.86525998 0.85407507\n",
            " 0.88255627 0.85852498 0.88001283 0.8904984  0.90681473 0.91456978\n",
            " 0.90380358 0.88478791 0.89536256 0.92665001 0.928993   0.94044517\n",
            " 0.94812004 0.93558546 0.9388416  0.90182139 0.90313988 0.91114882\n",
            " 0.97133172 0.96867247 0.9877505  0.94769242 0.96630275 0.97456113\n",
            " 0.99142535 0.99639642 0.99738083 0.99646324 0.9731001  0.97418697\n",
            " 1.         1.10274434 1.17702067 1.28321958 1.4036479  1.53058517\n",
            " 1.65893877 1.78464842 1.90507042 2.01911378]\n",
            "9 day output [[2.1268685]]\n",
            "10 day input [0.82119297 0.83000815 0.83384336 0.84353605 0.83626653 0.84142468\n",
            " 0.81833772 0.83479659 0.84815077 0.85463632 0.89461423 0.91090383\n",
            " 0.88553178 0.88183466 0.88325115 0.87149609 0.87834244 0.88093043\n",
            " 0.87868988 0.88681019 0.88766542 0.89627125 0.89711313 0.89348728\n",
            " 0.89972338 0.89987038 0.90441383 0.89002178 0.88351396 0.88657411\n",
            " 0.90014655 0.92386603 0.93543847 0.94035163 0.93298411 0.95461004\n",
            " 0.96279716 0.96273035 0.96611566 0.9516568  0.95661005 0.96323814\n",
            " 0.95757665 0.95784391 0.93118455 0.94493962 0.94441401 0.96044971\n",
            " 0.9530332  0.92710881 0.90531361 0.91092165 0.92243173 0.93034267\n",
            " 0.93752756 0.92744288 0.88007519 0.86525998 0.85407507 0.88255627\n",
            " 0.85852498 0.88001283 0.8904984  0.90681473 0.91456978 0.90380358\n",
            " 0.88478791 0.89536256 0.92665001 0.928993   0.94044517 0.94812004\n",
            " 0.93558546 0.9388416  0.90182139 0.90313988 0.91114882 0.97133172\n",
            " 0.96867247 0.9877505  0.94769242 0.96630275 0.97456113 0.99142535\n",
            " 0.99639642 0.99738083 0.99646324 0.9731001  0.97418697 1.\n",
            " 1.10274434 1.17702067 1.28321958 1.4036479  1.53058517 1.65893877\n",
            " 1.78464842 1.90507042 2.01911378 2.12686849]\n",
            "10 day output [[2.229024]]\n",
            "11 day input [0.83000815 0.83384336 0.84353605 0.83626653 0.84142468 0.81833772\n",
            " 0.83479659 0.84815077 0.85463632 0.89461423 0.91090383 0.88553178\n",
            " 0.88183466 0.88325115 0.87149609 0.87834244 0.88093043 0.87868988\n",
            " 0.88681019 0.88766542 0.89627125 0.89711313 0.89348728 0.89972338\n",
            " 0.89987038 0.90441383 0.89002178 0.88351396 0.88657411 0.90014655\n",
            " 0.92386603 0.93543847 0.94035163 0.93298411 0.95461004 0.96279716\n",
            " 0.96273035 0.96611566 0.9516568  0.95661005 0.96323814 0.95757665\n",
            " 0.95784391 0.93118455 0.94493962 0.94441401 0.96044971 0.9530332\n",
            " 0.92710881 0.90531361 0.91092165 0.92243173 0.93034267 0.93752756\n",
            " 0.92744288 0.88007519 0.86525998 0.85407507 0.88255627 0.85852498\n",
            " 0.88001283 0.8904984  0.90681473 0.91456978 0.90380358 0.88478791\n",
            " 0.89536256 0.92665001 0.928993   0.94044517 0.94812004 0.93558546\n",
            " 0.9388416  0.90182139 0.90313988 0.91114882 0.97133172 0.96867247\n",
            " 0.9877505  0.94769242 0.96630275 0.97456113 0.99142535 0.99639642\n",
            " 0.99738083 0.99646324 0.9731001  0.97418697 1.         1.10274434\n",
            " 1.17702067 1.28321958 1.4036479  1.53058517 1.65893877 1.78464842\n",
            " 1.90507042 2.01911378 2.12686849 2.22902393]\n",
            "11 day output [[2.3263607]]\n",
            "12 day input [0.83384336 0.84353605 0.83626653 0.84142468 0.81833772 0.83479659\n",
            " 0.84815077 0.85463632 0.89461423 0.91090383 0.88553178 0.88183466\n",
            " 0.88325115 0.87149609 0.87834244 0.88093043 0.87868988 0.88681019\n",
            " 0.88766542 0.89627125 0.89711313 0.89348728 0.89972338 0.89987038\n",
            " 0.90441383 0.89002178 0.88351396 0.88657411 0.90014655 0.92386603\n",
            " 0.93543847 0.94035163 0.93298411 0.95461004 0.96279716 0.96273035\n",
            " 0.96611566 0.9516568  0.95661005 0.96323814 0.95757665 0.95784391\n",
            " 0.93118455 0.94493962 0.94441401 0.96044971 0.9530332  0.92710881\n",
            " 0.90531361 0.91092165 0.92243173 0.93034267 0.93752756 0.92744288\n",
            " 0.88007519 0.86525998 0.85407507 0.88255627 0.85852498 0.88001283\n",
            " 0.8904984  0.90681473 0.91456978 0.90380358 0.88478791 0.89536256\n",
            " 0.92665001 0.928993   0.94044517 0.94812004 0.93558546 0.9388416\n",
            " 0.90182139 0.90313988 0.91114882 0.97133172 0.96867247 0.9877505\n",
            " 0.94769242 0.96630275 0.97456113 0.99142535 0.99639642 0.99738083\n",
            " 0.99646324 0.9731001  0.97418697 1.         1.10274434 1.17702067\n",
            " 1.28321958 1.4036479  1.53058517 1.65893877 1.78464842 1.90507042\n",
            " 2.01911378 2.12686849 2.22902393 2.3263607 ]\n",
            "12 day output [[2.4194179]]\n",
            "13 day input [0.84353605 0.83626653 0.84142468 0.81833772 0.83479659 0.84815077\n",
            " 0.85463632 0.89461423 0.91090383 0.88553178 0.88183466 0.88325115\n",
            " 0.87149609 0.87834244 0.88093043 0.87868988 0.88681019 0.88766542\n",
            " 0.89627125 0.89711313 0.89348728 0.89972338 0.89987038 0.90441383\n",
            " 0.89002178 0.88351396 0.88657411 0.90014655 0.92386603 0.93543847\n",
            " 0.94035163 0.93298411 0.95461004 0.96279716 0.96273035 0.96611566\n",
            " 0.9516568  0.95661005 0.96323814 0.95757665 0.95784391 0.93118455\n",
            " 0.94493962 0.94441401 0.96044971 0.9530332  0.92710881 0.90531361\n",
            " 0.91092165 0.92243173 0.93034267 0.93752756 0.92744288 0.88007519\n",
            " 0.86525998 0.85407507 0.88255627 0.85852498 0.88001283 0.8904984\n",
            " 0.90681473 0.91456978 0.90380358 0.88478791 0.89536256 0.92665001\n",
            " 0.928993   0.94044517 0.94812004 0.93558546 0.9388416  0.90182139\n",
            " 0.90313988 0.91114882 0.97133172 0.96867247 0.9877505  0.94769242\n",
            " 0.96630275 0.97456113 0.99142535 0.99639642 0.99738083 0.99646324\n",
            " 0.9731001  0.97418697 1.         1.10274434 1.17702067 1.28321958\n",
            " 1.4036479  1.53058517 1.65893877 1.78464842 1.90507042 2.01911378\n",
            " 2.12686849 2.22902393 2.3263607  2.41941786]\n",
            "13 day output [[2.5083568]]\n",
            "14 day input [0.83626653 0.84142468 0.81833772 0.83479659 0.84815077 0.85463632\n",
            " 0.89461423 0.91090383 0.88553178 0.88183466 0.88325115 0.87149609\n",
            " 0.87834244 0.88093043 0.87868988 0.88681019 0.88766542 0.89627125\n",
            " 0.89711313 0.89348728 0.89972338 0.89987038 0.90441383 0.89002178\n",
            " 0.88351396 0.88657411 0.90014655 0.92386603 0.93543847 0.94035163\n",
            " 0.93298411 0.95461004 0.96279716 0.96273035 0.96611566 0.9516568\n",
            " 0.95661005 0.96323814 0.95757665 0.95784391 0.93118455 0.94493962\n",
            " 0.94441401 0.96044971 0.9530332  0.92710881 0.90531361 0.91092165\n",
            " 0.92243173 0.93034267 0.93752756 0.92744288 0.88007519 0.86525998\n",
            " 0.85407507 0.88255627 0.85852498 0.88001283 0.8904984  0.90681473\n",
            " 0.91456978 0.90380358 0.88478791 0.89536256 0.92665001 0.928993\n",
            " 0.94044517 0.94812004 0.93558546 0.9388416  0.90182139 0.90313988\n",
            " 0.91114882 0.97133172 0.96867247 0.9877505  0.94769242 0.96630275\n",
            " 0.97456113 0.99142535 0.99639642 0.99738083 0.99646324 0.9731001\n",
            " 0.97418697 1.         1.10274434 1.17702067 1.28321958 1.4036479\n",
            " 1.53058517 1.65893877 1.78464842 1.90507042 2.01911378 2.12686849\n",
            " 2.22902393 2.3263607  2.41941786 2.50835681]\n",
            "14 day output [[2.5929935]]\n",
            "15 day input [0.84142468 0.81833772 0.83479659 0.84815077 0.85463632 0.89461423\n",
            " 0.91090383 0.88553178 0.88183466 0.88325115 0.87149609 0.87834244\n",
            " 0.88093043 0.87868988 0.88681019 0.88766542 0.89627125 0.89711313\n",
            " 0.89348728 0.89972338 0.89987038 0.90441383 0.89002178 0.88351396\n",
            " 0.88657411 0.90014655 0.92386603 0.93543847 0.94035163 0.93298411\n",
            " 0.95461004 0.96279716 0.96273035 0.96611566 0.9516568  0.95661005\n",
            " 0.96323814 0.95757665 0.95784391 0.93118455 0.94493962 0.94441401\n",
            " 0.96044971 0.9530332  0.92710881 0.90531361 0.91092165 0.92243173\n",
            " 0.93034267 0.93752756 0.92744288 0.88007519 0.86525998 0.85407507\n",
            " 0.88255627 0.85852498 0.88001283 0.8904984  0.90681473 0.91456978\n",
            " 0.90380358 0.88478791 0.89536256 0.92665001 0.928993   0.94044517\n",
            " 0.94812004 0.93558546 0.9388416  0.90182139 0.90313988 0.91114882\n",
            " 0.97133172 0.96867247 0.9877505  0.94769242 0.96630275 0.97456113\n",
            " 0.99142535 0.99639642 0.99738083 0.99646324 0.9731001  0.97418697\n",
            " 1.         1.10274434 1.17702067 1.28321958 1.4036479  1.53058517\n",
            " 1.65893877 1.78464842 1.90507042 2.01911378 2.12686849 2.22902393\n",
            " 2.3263607  2.41941786 2.50835681 2.5929935 ]\n",
            "15 day output [[2.672926]]\n",
            "16 day input [0.81833772 0.83479659 0.84815077 0.85463632 0.89461423 0.91090383\n",
            " 0.88553178 0.88183466 0.88325115 0.87149609 0.87834244 0.88093043\n",
            " 0.87868988 0.88681019 0.88766542 0.89627125 0.89711313 0.89348728\n",
            " 0.89972338 0.89987038 0.90441383 0.89002178 0.88351396 0.88657411\n",
            " 0.90014655 0.92386603 0.93543847 0.94035163 0.93298411 0.95461004\n",
            " 0.96279716 0.96273035 0.96611566 0.9516568  0.95661005 0.96323814\n",
            " 0.95757665 0.95784391 0.93118455 0.94493962 0.94441401 0.96044971\n",
            " 0.9530332  0.92710881 0.90531361 0.91092165 0.92243173 0.93034267\n",
            " 0.93752756 0.92744288 0.88007519 0.86525998 0.85407507 0.88255627\n",
            " 0.85852498 0.88001283 0.8904984  0.90681473 0.91456978 0.90380358\n",
            " 0.88478791 0.89536256 0.92665001 0.928993   0.94044517 0.94812004\n",
            " 0.93558546 0.9388416  0.90182139 0.90313988 0.91114882 0.97133172\n",
            " 0.96867247 0.9877505  0.94769242 0.96630275 0.97456113 0.99142535\n",
            " 0.99639642 0.99738083 0.99646324 0.9731001  0.97418697 1.\n",
            " 1.10274434 1.17702067 1.28321958 1.4036479  1.53058517 1.65893877\n",
            " 1.78464842 1.90507042 2.01911378 2.12686849 2.22902393 2.3263607\n",
            " 2.41941786 2.50835681 2.5929935  2.67292595]\n",
            "16 day output [[2.7477026]]\n",
            "17 day input [0.83479659 0.84815077 0.85463632 0.89461423 0.91090383 0.88553178\n",
            " 0.88183466 0.88325115 0.87149609 0.87834244 0.88093043 0.87868988\n",
            " 0.88681019 0.88766542 0.89627125 0.89711313 0.89348728 0.89972338\n",
            " 0.89987038 0.90441383 0.89002178 0.88351396 0.88657411 0.90014655\n",
            " 0.92386603 0.93543847 0.94035163 0.93298411 0.95461004 0.96279716\n",
            " 0.96273035 0.96611566 0.9516568  0.95661005 0.96323814 0.95757665\n",
            " 0.95784391 0.93118455 0.94493962 0.94441401 0.96044971 0.9530332\n",
            " 0.92710881 0.90531361 0.91092165 0.92243173 0.93034267 0.93752756\n",
            " 0.92744288 0.88007519 0.86525998 0.85407507 0.88255627 0.85852498\n",
            " 0.88001283 0.8904984  0.90681473 0.91456978 0.90380358 0.88478791\n",
            " 0.89536256 0.92665001 0.928993   0.94044517 0.94812004 0.93558546\n",
            " 0.9388416  0.90182139 0.90313988 0.91114882 0.97133172 0.96867247\n",
            " 0.9877505  0.94769242 0.96630275 0.97456113 0.99142535 0.99639642\n",
            " 0.99738083 0.99646324 0.9731001  0.97418697 1.         1.10274434\n",
            " 1.17702067 1.28321958 1.4036479  1.53058517 1.65893877 1.78464842\n",
            " 1.90507042 2.01911378 2.12686849 2.22902393 2.3263607  2.41941786\n",
            " 2.50835681 2.5929935  2.67292595 2.7477026 ]\n",
            "17 day output [[2.8169587]]\n",
            "18 day input [0.84815077 0.85463632 0.89461423 0.91090383 0.88553178 0.88183466\n",
            " 0.88325115 0.87149609 0.87834244 0.88093043 0.87868988 0.88681019\n",
            " 0.88766542 0.89627125 0.89711313 0.89348728 0.89972338 0.89987038\n",
            " 0.90441383 0.89002178 0.88351396 0.88657411 0.90014655 0.92386603\n",
            " 0.93543847 0.94035163 0.93298411 0.95461004 0.96279716 0.96273035\n",
            " 0.96611566 0.9516568  0.95661005 0.96323814 0.95757665 0.95784391\n",
            " 0.93118455 0.94493962 0.94441401 0.96044971 0.9530332  0.92710881\n",
            " 0.90531361 0.91092165 0.92243173 0.93034267 0.93752756 0.92744288\n",
            " 0.88007519 0.86525998 0.85407507 0.88255627 0.85852498 0.88001283\n",
            " 0.8904984  0.90681473 0.91456978 0.90380358 0.88478791 0.89536256\n",
            " 0.92665001 0.928993   0.94044517 0.94812004 0.93558546 0.9388416\n",
            " 0.90182139 0.90313988 0.91114882 0.97133172 0.96867247 0.9877505\n",
            " 0.94769242 0.96630275 0.97456113 0.99142535 0.99639642 0.99738083\n",
            " 0.99646324 0.9731001  0.97418697 1.         1.10274434 1.17702067\n",
            " 1.28321958 1.4036479  1.53058517 1.65893877 1.78464842 1.90507042\n",
            " 2.01911378 2.12686849 2.22902393 2.3263607  2.41941786 2.50835681\n",
            " 2.5929935  2.67292595 2.7477026  2.81695867]\n",
            "18 day output [[2.8805032]]\n",
            "19 day input [0.85463632 0.89461423 0.91090383 0.88553178 0.88183466 0.88325115\n",
            " 0.87149609 0.87834244 0.88093043 0.87868988 0.88681019 0.88766542\n",
            " 0.89627125 0.89711313 0.89348728 0.89972338 0.89987038 0.90441383\n",
            " 0.89002178 0.88351396 0.88657411 0.90014655 0.92386603 0.93543847\n",
            " 0.94035163 0.93298411 0.95461004 0.96279716 0.96273035 0.96611566\n",
            " 0.9516568  0.95661005 0.96323814 0.95757665 0.95784391 0.93118455\n",
            " 0.94493962 0.94441401 0.96044971 0.9530332  0.92710881 0.90531361\n",
            " 0.91092165 0.92243173 0.93034267 0.93752756 0.92744288 0.88007519\n",
            " 0.86525998 0.85407507 0.88255627 0.85852498 0.88001283 0.8904984\n",
            " 0.90681473 0.91456978 0.90380358 0.88478791 0.89536256 0.92665001\n",
            " 0.928993   0.94044517 0.94812004 0.93558546 0.9388416  0.90182139\n",
            " 0.90313988 0.91114882 0.97133172 0.96867247 0.9877505  0.94769242\n",
            " 0.96630275 0.97456113 0.99142535 0.99639642 0.99738083 0.99646324\n",
            " 0.9731001  0.97418697 1.         1.10274434 1.17702067 1.28321958\n",
            " 1.4036479  1.53058517 1.65893877 1.78464842 1.90507042 2.01911378\n",
            " 2.12686849 2.22902393 2.3263607  2.41941786 2.50835681 2.5929935\n",
            " 2.67292595 2.7477026  2.81695867 2.88050318]\n",
            "19 day output [[2.9383411]]\n",
            "20 day input [0.89461423 0.91090383 0.88553178 0.88183466 0.88325115 0.87149609\n",
            " 0.87834244 0.88093043 0.87868988 0.88681019 0.88766542 0.89627125\n",
            " 0.89711313 0.89348728 0.89972338 0.89987038 0.90441383 0.89002178\n",
            " 0.88351396 0.88657411 0.90014655 0.92386603 0.93543847 0.94035163\n",
            " 0.93298411 0.95461004 0.96279716 0.96273035 0.96611566 0.9516568\n",
            " 0.95661005 0.96323814 0.95757665 0.95784391 0.93118455 0.94493962\n",
            " 0.94441401 0.96044971 0.9530332  0.92710881 0.90531361 0.91092165\n",
            " 0.92243173 0.93034267 0.93752756 0.92744288 0.88007519 0.86525998\n",
            " 0.85407507 0.88255627 0.85852498 0.88001283 0.8904984  0.90681473\n",
            " 0.91456978 0.90380358 0.88478791 0.89536256 0.92665001 0.928993\n",
            " 0.94044517 0.94812004 0.93558546 0.9388416  0.90182139 0.90313988\n",
            " 0.91114882 0.97133172 0.96867247 0.9877505  0.94769242 0.96630275\n",
            " 0.97456113 0.99142535 0.99639642 0.99738083 0.99646324 0.9731001\n",
            " 0.97418697 1.         1.10274434 1.17702067 1.28321958 1.4036479\n",
            " 1.53058517 1.65893877 1.78464842 1.90507042 2.01911378 2.12686849\n",
            " 2.22902393 2.3263607  2.41941786 2.50835681 2.5929935  2.67292595\n",
            " 2.7477026  2.81695867 2.88050318 2.93834114]\n",
            "20 day output [[2.990652]]\n",
            "21 day input [0.91090383 0.88553178 0.88183466 0.88325115 0.87149609 0.87834244\n",
            " 0.88093043 0.87868988 0.88681019 0.88766542 0.89627125 0.89711313\n",
            " 0.89348728 0.89972338 0.89987038 0.90441383 0.89002178 0.88351396\n",
            " 0.88657411 0.90014655 0.92386603 0.93543847 0.94035163 0.93298411\n",
            " 0.95461004 0.96279716 0.96273035 0.96611566 0.9516568  0.95661005\n",
            " 0.96323814 0.95757665 0.95784391 0.93118455 0.94493962 0.94441401\n",
            " 0.96044971 0.9530332  0.92710881 0.90531361 0.91092165 0.92243173\n",
            " 0.93034267 0.93752756 0.92744288 0.88007519 0.86525998 0.85407507\n",
            " 0.88255627 0.85852498 0.88001283 0.8904984  0.90681473 0.91456978\n",
            " 0.90380358 0.88478791 0.89536256 0.92665001 0.928993   0.94044517\n",
            " 0.94812004 0.93558546 0.9388416  0.90182139 0.90313988 0.91114882\n",
            " 0.97133172 0.96867247 0.9877505  0.94769242 0.96630275 0.97456113\n",
            " 0.99142535 0.99639642 0.99738083 0.99646324 0.9731001  0.97418697\n",
            " 1.         1.10274434 1.17702067 1.28321958 1.4036479  1.53058517\n",
            " 1.65893877 1.78464842 1.90507042 2.01911378 2.12686849 2.22902393\n",
            " 2.3263607  2.41941786 2.50835681 2.5929935  2.67292595 2.7477026\n",
            " 2.81695867 2.88050318 2.93834114 2.99065208]\n",
            "21 day output [[3.0377455]]\n",
            "22 day input [0.88553178 0.88183466 0.88325115 0.87149609 0.87834244 0.88093043\n",
            " 0.87868988 0.88681019 0.88766542 0.89627125 0.89711313 0.89348728\n",
            " 0.89972338 0.89987038 0.90441383 0.89002178 0.88351396 0.88657411\n",
            " 0.90014655 0.92386603 0.93543847 0.94035163 0.93298411 0.95461004\n",
            " 0.96279716 0.96273035 0.96611566 0.9516568  0.95661005 0.96323814\n",
            " 0.95757665 0.95784391 0.93118455 0.94493962 0.94441401 0.96044971\n",
            " 0.9530332  0.92710881 0.90531361 0.91092165 0.92243173 0.93034267\n",
            " 0.93752756 0.92744288 0.88007519 0.86525998 0.85407507 0.88255627\n",
            " 0.85852498 0.88001283 0.8904984  0.90681473 0.91456978 0.90380358\n",
            " 0.88478791 0.89536256 0.92665001 0.928993   0.94044517 0.94812004\n",
            " 0.93558546 0.9388416  0.90182139 0.90313988 0.91114882 0.97133172\n",
            " 0.96867247 0.9877505  0.94769242 0.96630275 0.97456113 0.99142535\n",
            " 0.99639642 0.99738083 0.99646324 0.9731001  0.97418697 1.\n",
            " 1.10274434 1.17702067 1.28321958 1.4036479  1.53058517 1.65893877\n",
            " 1.78464842 1.90507042 2.01911378 2.12686849 2.22902393 2.3263607\n",
            " 2.41941786 2.50835681 2.5929935  2.67292595 2.7477026  2.81695867\n",
            " 2.88050318 2.93834114 2.99065208 3.03774548]\n",
            "22 day output [[3.0800135]]\n",
            "23 day input [0.88183466 0.88325115 0.87149609 0.87834244 0.88093043 0.87868988\n",
            " 0.88681019 0.88766542 0.89627125 0.89711313 0.89348728 0.89972338\n",
            " 0.89987038 0.90441383 0.89002178 0.88351396 0.88657411 0.90014655\n",
            " 0.92386603 0.93543847 0.94035163 0.93298411 0.95461004 0.96279716\n",
            " 0.96273035 0.96611566 0.9516568  0.95661005 0.96323814 0.95757665\n",
            " 0.95784391 0.93118455 0.94493962 0.94441401 0.96044971 0.9530332\n",
            " 0.92710881 0.90531361 0.91092165 0.92243173 0.93034267 0.93752756\n",
            " 0.92744288 0.88007519 0.86525998 0.85407507 0.88255627 0.85852498\n",
            " 0.88001283 0.8904984  0.90681473 0.91456978 0.90380358 0.88478791\n",
            " 0.89536256 0.92665001 0.928993   0.94044517 0.94812004 0.93558546\n",
            " 0.9388416  0.90182139 0.90313988 0.91114882 0.97133172 0.96867247\n",
            " 0.9877505  0.94769242 0.96630275 0.97456113 0.99142535 0.99639642\n",
            " 0.99738083 0.99646324 0.9731001  0.97418697 1.         1.10274434\n",
            " 1.17702067 1.28321958 1.4036479  1.53058517 1.65893877 1.78464842\n",
            " 1.90507042 2.01911378 2.12686849 2.22902393 2.3263607  2.41941786\n",
            " 2.50835681 2.5929935  2.67292595 2.7477026  2.81695867 2.88050318\n",
            " 2.93834114 2.99065208 3.03774548 3.08001351]\n",
            "23 day output [[3.1178873]]\n",
            "24 day input [0.88325115 0.87149609 0.87834244 0.88093043 0.87868988 0.88681019\n",
            " 0.88766542 0.89627125 0.89711313 0.89348728 0.89972338 0.89987038\n",
            " 0.90441383 0.89002178 0.88351396 0.88657411 0.90014655 0.92386603\n",
            " 0.93543847 0.94035163 0.93298411 0.95461004 0.96279716 0.96273035\n",
            " 0.96611566 0.9516568  0.95661005 0.96323814 0.95757665 0.95784391\n",
            " 0.93118455 0.94493962 0.94441401 0.96044971 0.9530332  0.92710881\n",
            " 0.90531361 0.91092165 0.92243173 0.93034267 0.93752756 0.92744288\n",
            " 0.88007519 0.86525998 0.85407507 0.88255627 0.85852498 0.88001283\n",
            " 0.8904984  0.90681473 0.91456978 0.90380358 0.88478791 0.89536256\n",
            " 0.92665001 0.928993   0.94044517 0.94812004 0.93558546 0.9388416\n",
            " 0.90182139 0.90313988 0.91114882 0.97133172 0.96867247 0.9877505\n",
            " 0.94769242 0.96630275 0.97456113 0.99142535 0.99639642 0.99738083\n",
            " 0.99646324 0.9731001  0.97418697 1.         1.10274434 1.17702067\n",
            " 1.28321958 1.4036479  1.53058517 1.65893877 1.78464842 1.90507042\n",
            " 2.01911378 2.12686849 2.22902393 2.3263607  2.41941786 2.50835681\n",
            " 2.5929935  2.67292595 2.7477026  2.81695867 2.88050318 2.93834114\n",
            " 2.99065208 3.03774548 3.08001351 3.11788726]\n",
            "24 day output [[3.1518004]]\n",
            "25 day input [0.87149609 0.87834244 0.88093043 0.87868988 0.88681019 0.88766542\n",
            " 0.89627125 0.89711313 0.89348728 0.89972338 0.89987038 0.90441383\n",
            " 0.89002178 0.88351396 0.88657411 0.90014655 0.92386603 0.93543847\n",
            " 0.94035163 0.93298411 0.95461004 0.96279716 0.96273035 0.96611566\n",
            " 0.9516568  0.95661005 0.96323814 0.95757665 0.95784391 0.93118455\n",
            " 0.94493962 0.94441401 0.96044971 0.9530332  0.92710881 0.90531361\n",
            " 0.91092165 0.92243173 0.93034267 0.93752756 0.92744288 0.88007519\n",
            " 0.86525998 0.85407507 0.88255627 0.85852498 0.88001283 0.8904984\n",
            " 0.90681473 0.91456978 0.90380358 0.88478791 0.89536256 0.92665001\n",
            " 0.928993   0.94044517 0.94812004 0.93558546 0.9388416  0.90182139\n",
            " 0.90313988 0.91114882 0.97133172 0.96867247 0.9877505  0.94769242\n",
            " 0.96630275 0.97456113 0.99142535 0.99639642 0.99738083 0.99646324\n",
            " 0.9731001  0.97418697 1.         1.10274434 1.17702067 1.28321958\n",
            " 1.4036479  1.53058517 1.65893877 1.78464842 1.90507042 2.01911378\n",
            " 2.12686849 2.22902393 2.3263607  2.41941786 2.50835681 2.5929935\n",
            " 2.67292595 2.7477026  2.81695867 2.88050318 2.93834114 2.99065208\n",
            " 3.03774548 3.08001351 3.11788726 3.15180039]\n",
            "25 day output [[3.1821706]]\n",
            "26 day input [0.87834244 0.88093043 0.87868988 0.88681019 0.88766542 0.89627125\n",
            " 0.89711313 0.89348728 0.89972338 0.89987038 0.90441383 0.89002178\n",
            " 0.88351396 0.88657411 0.90014655 0.92386603 0.93543847 0.94035163\n",
            " 0.93298411 0.95461004 0.96279716 0.96273035 0.96611566 0.9516568\n",
            " 0.95661005 0.96323814 0.95757665 0.95784391 0.93118455 0.94493962\n",
            " 0.94441401 0.96044971 0.9530332  0.92710881 0.90531361 0.91092165\n",
            " 0.92243173 0.93034267 0.93752756 0.92744288 0.88007519 0.86525998\n",
            " 0.85407507 0.88255627 0.85852498 0.88001283 0.8904984  0.90681473\n",
            " 0.91456978 0.90380358 0.88478791 0.89536256 0.92665001 0.928993\n",
            " 0.94044517 0.94812004 0.93558546 0.9388416  0.90182139 0.90313988\n",
            " 0.91114882 0.97133172 0.96867247 0.9877505  0.94769242 0.96630275\n",
            " 0.97456113 0.99142535 0.99639642 0.99738083 0.99646324 0.9731001\n",
            " 0.97418697 1.         1.10274434 1.17702067 1.28321958 1.4036479\n",
            " 1.53058517 1.65893877 1.78464842 1.90507042 2.01911378 2.12686849\n",
            " 2.22902393 2.3263607  2.41941786 2.50835681 2.5929935  2.67292595\n",
            " 2.7477026  2.81695867 2.88050318 2.93834114 2.99065208 3.03774548\n",
            " 3.08001351 3.11788726 3.15180039 3.18217063]\n",
            "26 day output [[3.209389]]\n",
            "27 day input [0.88093043 0.87868988 0.88681019 0.88766542 0.89627125 0.89711313\n",
            " 0.89348728 0.89972338 0.89987038 0.90441383 0.89002178 0.88351396\n",
            " 0.88657411 0.90014655 0.92386603 0.93543847 0.94035163 0.93298411\n",
            " 0.95461004 0.96279716 0.96273035 0.96611566 0.9516568  0.95661005\n",
            " 0.96323814 0.95757665 0.95784391 0.93118455 0.94493962 0.94441401\n",
            " 0.96044971 0.9530332  0.92710881 0.90531361 0.91092165 0.92243173\n",
            " 0.93034267 0.93752756 0.92744288 0.88007519 0.86525998 0.85407507\n",
            " 0.88255627 0.85852498 0.88001283 0.8904984  0.90681473 0.91456978\n",
            " 0.90380358 0.88478791 0.89536256 0.92665001 0.928993   0.94044517\n",
            " 0.94812004 0.93558546 0.9388416  0.90182139 0.90313988 0.91114882\n",
            " 0.97133172 0.96867247 0.9877505  0.94769242 0.96630275 0.97456113\n",
            " 0.99142535 0.99639642 0.99738083 0.99646324 0.9731001  0.97418697\n",
            " 1.         1.10274434 1.17702067 1.28321958 1.4036479  1.53058517\n",
            " 1.65893877 1.78464842 1.90507042 2.01911378 2.12686849 2.22902393\n",
            " 2.3263607  2.41941786 2.50835681 2.5929935  2.67292595 2.7477026\n",
            " 2.81695867 2.88050318 2.93834114 2.99065208 3.03774548 3.08001351\n",
            " 3.11788726 3.15180039 3.18217063 3.20938897]\n",
            "27 day output [[3.2338066]]\n",
            "28 day input [0.87868988 0.88681019 0.88766542 0.89627125 0.89711313 0.89348728\n",
            " 0.89972338 0.89987038 0.90441383 0.89002178 0.88351396 0.88657411\n",
            " 0.90014655 0.92386603 0.93543847 0.94035163 0.93298411 0.95461004\n",
            " 0.96279716 0.96273035 0.96611566 0.9516568  0.95661005 0.96323814\n",
            " 0.95757665 0.95784391 0.93118455 0.94493962 0.94441401 0.96044971\n",
            " 0.9530332  0.92710881 0.90531361 0.91092165 0.92243173 0.93034267\n",
            " 0.93752756 0.92744288 0.88007519 0.86525998 0.85407507 0.88255627\n",
            " 0.85852498 0.88001283 0.8904984  0.90681473 0.91456978 0.90380358\n",
            " 0.88478791 0.89536256 0.92665001 0.928993   0.94044517 0.94812004\n",
            " 0.93558546 0.9388416  0.90182139 0.90313988 0.91114882 0.97133172\n",
            " 0.96867247 0.9877505  0.94769242 0.96630275 0.97456113 0.99142535\n",
            " 0.99639642 0.99738083 0.99646324 0.9731001  0.97418697 1.\n",
            " 1.10274434 1.17702067 1.28321958 1.4036479  1.53058517 1.65893877\n",
            " 1.78464842 1.90507042 2.01911378 2.12686849 2.22902393 2.3263607\n",
            " 2.41941786 2.50835681 2.5929935  2.67292595 2.7477026  2.81695867\n",
            " 2.88050318 2.93834114 2.99065208 3.03774548 3.08001351 3.11788726\n",
            " 3.15180039 3.18217063 3.20938897 3.23380661]\n",
            "28 day output [[3.255738]]\n",
            "29 day input [0.88681019 0.88766542 0.89627125 0.89711313 0.89348728 0.89972338\n",
            " 0.89987038 0.90441383 0.89002178 0.88351396 0.88657411 0.90014655\n",
            " 0.92386603 0.93543847 0.94035163 0.93298411 0.95461004 0.96279716\n",
            " 0.96273035 0.96611566 0.9516568  0.95661005 0.96323814 0.95757665\n",
            " 0.95784391 0.93118455 0.94493962 0.94441401 0.96044971 0.9530332\n",
            " 0.92710881 0.90531361 0.91092165 0.92243173 0.93034267 0.93752756\n",
            " 0.92744288 0.88007519 0.86525998 0.85407507 0.88255627 0.85852498\n",
            " 0.88001283 0.8904984  0.90681473 0.91456978 0.90380358 0.88478791\n",
            " 0.89536256 0.92665001 0.928993   0.94044517 0.94812004 0.93558546\n",
            " 0.9388416  0.90182139 0.90313988 0.91114882 0.97133172 0.96867247\n",
            " 0.9877505  0.94769242 0.96630275 0.97456113 0.99142535 0.99639642\n",
            " 0.99738083 0.99646324 0.9731001  0.97418697 1.         1.10274434\n",
            " 1.17702067 1.28321958 1.4036479  1.53058517 1.65893877 1.78464842\n",
            " 1.90507042 2.01911378 2.12686849 2.22902393 2.3263607  2.41941786\n",
            " 2.50835681 2.5929935  2.67292595 2.7477026  2.81695867 2.88050318\n",
            " 2.93834114 2.99065208 3.03774548 3.08001351 3.11788726 3.15180039\n",
            " 3.18217063 3.20938897 3.23380661 3.25573802]\n",
            "29 day output [[3.2754645]]\n",
            "[[1.1027443408966064], [1.1770206689834595], [1.283219575881958], [1.4036478996276855], [1.5305851697921753], [1.6589387655258179], [1.7846484184265137], [1.905070424079895], [2.019113779067993], [2.126868486404419], [2.2290239334106445], [2.3263607025146484], [2.4194178581237793], [2.508356809616089], [2.5929934978485107], [2.6729259490966797], [2.7477025985717773], [2.8169586658477783], [2.8805031776428223], [2.9383411407470703], [2.990652084350586], [3.037745475769043], [3.0800135135650635], [3.117887258529663], [3.1518003940582275], [3.1821706295013428], [3.2093889713287354], [3.233806610107422], [3.2557380199432373], [3.2754645347595215]]\n"
          ]
        }
      ]
    },
    {
      "cell_type": "code",
      "metadata": {
        "id": "jM7dpDCEy9SQ"
      },
      "source": [
        "day_new = np.arange(1, 101)\n",
        "day_pred = np.arange(101, 131)"
      ],
      "execution_count": 167,
      "outputs": []
    },
    {
      "cell_type": "code",
      "metadata": {
        "id": "UuvxoQz8zKw0"
      },
      "source": [
        "import matplotlib.pyplot as plt"
      ],
      "execution_count": 168,
      "outputs": []
    },
    {
      "cell_type": "code",
      "metadata": {
        "colab": {
          "base_uri": "https://localhost:8080/"
        },
        "id": "1hhDbgc2zPgH",
        "outputId": "df8765cf-4cf7-4c06-8ada-4e82ff77ef67"
      },
      "source": [
        "len(df1)"
      ],
      "execution_count": 169,
      "outputs": [
        {
          "output_type": "execute_result",
          "data": {
            "text/plain": [
              "1257"
            ]
          },
          "metadata": {},
          "execution_count": 169
        }
      ]
    },
    {
      "cell_type": "code",
      "metadata": {
        "id": "Tuwnr7g1zSPd"
      },
      "source": [
        "df3 = df1.tolist()\n",
        "df3.extend(lst_output)"
      ],
      "execution_count": 170,
      "outputs": []
    },
    {
      "cell_type": "code",
      "metadata": {
        "colab": {
          "base_uri": "https://localhost:8080/",
          "height": 282
        },
        "id": "YiStSB9Izbfj",
        "outputId": "6aadf1d8-9206-4ec8-e507-87175f7c6b89"
      },
      "source": [
        "plt.plot(day_new, scaler.inverse_transform(df1[1157:]))\n",
        "plt.plot(day_pred, scaler.inverse_transform(lst_output))"
      ],
      "execution_count": 171,
      "outputs": [
        {
          "output_type": "execute_result",
          "data": {
            "text/plain": [
              "[<matplotlib.lines.Line2D at 0x7f1eb61f9ad0>]"
            ]
          },
          "metadata": {},
          "execution_count": 171
        },
        {
          "output_type": "display_data",
          "data": {
            "image/png": "[encoded data removed]",
            "text/plain": [
              "<Figure size 432x288 with 1 Axes>"
            ]
          },
          "metadata": {
            "needs_background": "light"
          }
        }
      ]
    },
    {
      "cell_type": "code",
      "metadata": {
        "colab": {
          "base_uri": "https://localhost:8080/",
          "height": 282
        },
        "id": "7pfE37Ykz-qk",
        "outputId": "68111636-fb20-4a38-a155-ee294065afac"
      },
      "source": [
        "df3 = df1.tolist()\n",
        "df3.extend(lst_output)\n",
        "plt.plot(df3[1200:])"
      ],
      "execution_count": 172,
      "outputs": [
        {
          "output_type": "execute_result",
          "data": {
            "text/plain": [
              "[<matplotlib.lines.Line2D at 0x7f1eb681a5d0>]"
            ]
          },
          "metadata": {},
          "execution_count": 172
        },
        {
          "output_type": "display_data",
          "data": {
            "image/png": "[encoded data removed]",
            "text/plain": [
              "<Figure size 432x288 with 1 Axes>"
            ]
          },
          "metadata": {
            "needs_background": "light"
          }
        }
      ]
    }
  ]
}